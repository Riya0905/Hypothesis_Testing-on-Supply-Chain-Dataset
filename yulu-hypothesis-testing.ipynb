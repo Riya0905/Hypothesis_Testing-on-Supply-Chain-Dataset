{
 "cells": [
  {
   "cell_type": "markdown",
   "id": "5a0a0ac0",
   "metadata": {},
   "source": [
    "## Problem Statement:\n",
    "Yulu is India’s leading micro-mobility service provider, which offers unique vehicles for the daily commute.Yulu has recently suffered considerable dips in its revenues. They have contracted a consulting company to understand the factors on which the demand for these shared electric cycles depends. Specifically, they want to understand the factors affecting the demand for these shared electric cycles in the Indian market. The company wants to know:\n",
    "\n",
    "Which variables are significant in predicting the demand for shared electric cycles in the Indian market?\n",
    "How well those variables describe the electric cycle demands"
   ]
  },
  {
   "cell_type": "markdown",
   "id": "aef75844",
   "metadata": {},
   "source": [
    "## Data Dictionary\n",
    "\n",
    "- datetime: datetime\n",
    "- season: season (1: spring, 2: summer, 3: fall, 4: winter)\n",
    "- holiday: whether day is a holiday or not (extracted from http://dchr.dc.gov/page/holiday-schedule)\n",
    "- workingday: if day is neither weekend nor holiday is 1, otherwise is 0.\n",
    "- weather:\n",
    "1: Clear, Few clouds, partly cloudy, partly cloudy\n",
    "2: Mist + Cloudy, Mist + Broken clouds, Mist + Few clouds, Mist\n",
    "3: Light Snow, Light Rain + Thunderstorm + Scattered clouds, Light Rain + Scattered clouds\n",
    "4: Heavy Rain + Ice Pallets + Thunderstorm + Mist, Snow + Fog\n",
    "- temp: temperature in Celsius\n",
    "- atemp: feeling temperature in Celsius\n",
    "- humidity: humidity\n",
    "- windspeed: wind speed\n",
    "- casual: count of casual users\n",
    "- registered: count of registered users\n",
    "- count: count of total rental bikes including both casual and registered3"
   ]
  },
  {
   "cell_type": "markdown",
   "id": "b03a8eb6",
   "metadata": {},
   "source": [
    "### Loading the Dataset"
   ]
  },
  {
   "cell_type": "code",
   "execution_count": 1,
   "id": "d6c5f5ae",
   "metadata": {
    "execution": {
     "iopub.execute_input": "2022-04-20T13:40:51.972465Z",
     "iopub.status.busy": "2022-04-20T13:40:51.971988Z",
     "iopub.status.idle": "2022-04-20T13:40:53.866955Z",
     "shell.execute_reply": "2022-04-20T13:40:53.866177Z"
    },
    "papermill": {
     "duration": 2.018975,
     "end_time": "2022-04-20T13:40:53.869290",
     "exception": false,
     "start_time": "2022-04-20T13:40:51.850315",
     "status": "completed"
    },
    "tags": []
   },
   "outputs": [],
   "source": [
    "import pandas as pd\n",
    "import numpy as np\n",
    "import matplotlib.pyplot as plt\n",
    "import seaborn as sns\n",
    "from numpy import NaN, nan, NAN\n",
    "from scipy import stats\n",
    "import statsmodels.api as sm\n",
    "import warnings\n",
    "warnings.filterwarnings(\"ignore\")"
   ]
  },
  {
   "cell_type": "code",
   "execution_count": 2,
   "id": "cea1b635",
   "metadata": {},
   "outputs": [],
   "source": [
    "bike_data=pd.read_csv('https://d2beiqkhq929f0.cloudfront.net/public_assets/assets/000/001/428/original/bike_sharing.csv?1642089089')"
   ]
  },
  {
   "cell_type": "code",
   "execution_count": 3,
   "id": "941857fa",
   "metadata": {
    "execution": {
     "iopub.execute_input": "2022-04-20T13:40:54.678754Z",
     "iopub.status.busy": "2022-04-20T13:40:54.678235Z",
     "iopub.status.idle": "2022-04-20T13:40:54.734413Z",
     "shell.execute_reply": "2022-04-20T13:40:54.733764Z"
    },
    "papermill": {
     "duration": 0.179225,
     "end_time": "2022-04-20T13:40:54.736340",
     "exception": false,
     "start_time": "2022-04-20T13:40:54.557115",
     "status": "completed"
    },
    "tags": []
   },
   "outputs": [
    {
     "data": {
      "text/html": [
       "<div>\n",
       "<style scoped>\n",
       "    .dataframe tbody tr th:only-of-type {\n",
       "        vertical-align: middle;\n",
       "    }\n",
       "\n",
       "    .dataframe tbody tr th {\n",
       "        vertical-align: top;\n",
       "    }\n",
       "\n",
       "    .dataframe thead th {\n",
       "        text-align: right;\n",
       "    }\n",
       "</style>\n",
       "<table border=\"1\" class=\"dataframe\">\n",
       "  <thead>\n",
       "    <tr style=\"text-align: right;\">\n",
       "      <th></th>\n",
       "      <th>count</th>\n",
       "      <th>mean</th>\n",
       "      <th>std</th>\n",
       "      <th>min</th>\n",
       "      <th>25%</th>\n",
       "      <th>50%</th>\n",
       "      <th>75%</th>\n",
       "      <th>max</th>\n",
       "    </tr>\n",
       "  </thead>\n",
       "  <tbody>\n",
       "    <tr>\n",
       "      <th>season</th>\n",
       "      <td>10886.0</td>\n",
       "      <td>2.506614</td>\n",
       "      <td>1.116174</td>\n",
       "      <td>1.00</td>\n",
       "      <td>2.0000</td>\n",
       "      <td>3.000</td>\n",
       "      <td>4.0000</td>\n",
       "      <td>4.0000</td>\n",
       "    </tr>\n",
       "    <tr>\n",
       "      <th>holiday</th>\n",
       "      <td>10886.0</td>\n",
       "      <td>0.028569</td>\n",
       "      <td>0.166599</td>\n",
       "      <td>0.00</td>\n",
       "      <td>0.0000</td>\n",
       "      <td>0.000</td>\n",
       "      <td>0.0000</td>\n",
       "      <td>1.0000</td>\n",
       "    </tr>\n",
       "    <tr>\n",
       "      <th>workingday</th>\n",
       "      <td>10886.0</td>\n",
       "      <td>0.680875</td>\n",
       "      <td>0.466159</td>\n",
       "      <td>0.00</td>\n",
       "      <td>0.0000</td>\n",
       "      <td>1.000</td>\n",
       "      <td>1.0000</td>\n",
       "      <td>1.0000</td>\n",
       "    </tr>\n",
       "    <tr>\n",
       "      <th>weather</th>\n",
       "      <td>10886.0</td>\n",
       "      <td>1.418427</td>\n",
       "      <td>0.633839</td>\n",
       "      <td>1.00</td>\n",
       "      <td>1.0000</td>\n",
       "      <td>1.000</td>\n",
       "      <td>2.0000</td>\n",
       "      <td>4.0000</td>\n",
       "    </tr>\n",
       "    <tr>\n",
       "      <th>temp</th>\n",
       "      <td>10886.0</td>\n",
       "      <td>20.230860</td>\n",
       "      <td>7.791590</td>\n",
       "      <td>0.82</td>\n",
       "      <td>13.9400</td>\n",
       "      <td>20.500</td>\n",
       "      <td>26.2400</td>\n",
       "      <td>41.0000</td>\n",
       "    </tr>\n",
       "    <tr>\n",
       "      <th>atemp</th>\n",
       "      <td>10886.0</td>\n",
       "      <td>23.655084</td>\n",
       "      <td>8.474601</td>\n",
       "      <td>0.76</td>\n",
       "      <td>16.6650</td>\n",
       "      <td>24.240</td>\n",
       "      <td>31.0600</td>\n",
       "      <td>45.4550</td>\n",
       "    </tr>\n",
       "    <tr>\n",
       "      <th>humidity</th>\n",
       "      <td>10886.0</td>\n",
       "      <td>61.886460</td>\n",
       "      <td>19.245033</td>\n",
       "      <td>0.00</td>\n",
       "      <td>47.0000</td>\n",
       "      <td>62.000</td>\n",
       "      <td>77.0000</td>\n",
       "      <td>100.0000</td>\n",
       "    </tr>\n",
       "    <tr>\n",
       "      <th>windspeed</th>\n",
       "      <td>10886.0</td>\n",
       "      <td>12.799395</td>\n",
       "      <td>8.164537</td>\n",
       "      <td>0.00</td>\n",
       "      <td>7.0015</td>\n",
       "      <td>12.998</td>\n",
       "      <td>16.9979</td>\n",
       "      <td>56.9969</td>\n",
       "    </tr>\n",
       "    <tr>\n",
       "      <th>casual</th>\n",
       "      <td>10886.0</td>\n",
       "      <td>36.021955</td>\n",
       "      <td>49.960477</td>\n",
       "      <td>0.00</td>\n",
       "      <td>4.0000</td>\n",
       "      <td>17.000</td>\n",
       "      <td>49.0000</td>\n",
       "      <td>367.0000</td>\n",
       "    </tr>\n",
       "    <tr>\n",
       "      <th>registered</th>\n",
       "      <td>10886.0</td>\n",
       "      <td>155.552177</td>\n",
       "      <td>151.039033</td>\n",
       "      <td>0.00</td>\n",
       "      <td>36.0000</td>\n",
       "      <td>118.000</td>\n",
       "      <td>222.0000</td>\n",
       "      <td>886.0000</td>\n",
       "    </tr>\n",
       "    <tr>\n",
       "      <th>count</th>\n",
       "      <td>10886.0</td>\n",
       "      <td>191.574132</td>\n",
       "      <td>181.144454</td>\n",
       "      <td>1.00</td>\n",
       "      <td>42.0000</td>\n",
       "      <td>145.000</td>\n",
       "      <td>284.0000</td>\n",
       "      <td>977.0000</td>\n",
       "    </tr>\n",
       "  </tbody>\n",
       "</table>\n",
       "</div>"
      ],
      "text/plain": [
       "              count        mean         std   min      25%      50%       75%  \\\n",
       "season      10886.0    2.506614    1.116174  1.00   2.0000    3.000    4.0000   \n",
       "holiday     10886.0    0.028569    0.166599  0.00   0.0000    0.000    0.0000   \n",
       "workingday  10886.0    0.680875    0.466159  0.00   0.0000    1.000    1.0000   \n",
       "weather     10886.0    1.418427    0.633839  1.00   1.0000    1.000    2.0000   \n",
       "temp        10886.0   20.230860    7.791590  0.82  13.9400   20.500   26.2400   \n",
       "atemp       10886.0   23.655084    8.474601  0.76  16.6650   24.240   31.0600   \n",
       "humidity    10886.0   61.886460   19.245033  0.00  47.0000   62.000   77.0000   \n",
       "windspeed   10886.0   12.799395    8.164537  0.00   7.0015   12.998   16.9979   \n",
       "casual      10886.0   36.021955   49.960477  0.00   4.0000   17.000   49.0000   \n",
       "registered  10886.0  155.552177  151.039033  0.00  36.0000  118.000  222.0000   \n",
       "count       10886.0  191.574132  181.144454  1.00  42.0000  145.000  284.0000   \n",
       "\n",
       "                 max  \n",
       "season        4.0000  \n",
       "holiday       1.0000  \n",
       "workingday    1.0000  \n",
       "weather       4.0000  \n",
       "temp         41.0000  \n",
       "atemp        45.4550  \n",
       "humidity    100.0000  \n",
       "windspeed    56.9969  \n",
       "casual      367.0000  \n",
       "registered  886.0000  \n",
       "count       977.0000  "
      ]
     },
     "execution_count": 3,
     "metadata": {},
     "output_type": "execute_result"
    }
   ],
   "source": [
    "bike_data.describe().transpose()"
   ]
  },
  {
   "cell_type": "code",
   "execution_count": 4,
   "id": "39656af1",
   "metadata": {
    "execution": {
     "iopub.execute_input": "2022-04-20T13:40:54.982368Z",
     "iopub.status.busy": "2022-04-20T13:40:54.981834Z",
     "iopub.status.idle": "2022-04-20T13:40:54.998874Z",
     "shell.execute_reply": "2022-04-20T13:40:54.998015Z"
    },
    "papermill": {
     "duration": 0.143516,
     "end_time": "2022-04-20T13:40:55.001261",
     "exception": false,
     "start_time": "2022-04-20T13:40:54.857745",
     "status": "completed"
    },
    "tags": []
   },
   "outputs": [
    {
     "name": "stdout",
     "output_type": "stream",
     "text": [
      "<class 'pandas.core.frame.DataFrame'>\n",
      "RangeIndex: 10886 entries, 0 to 10885\n",
      "Data columns (total 12 columns):\n",
      " #   Column      Non-Null Count  Dtype  \n",
      "---  ------      --------------  -----  \n",
      " 0   datetime    10886 non-null  object \n",
      " 1   season      10886 non-null  int64  \n",
      " 2   holiday     10886 non-null  int64  \n",
      " 3   workingday  10886 non-null  int64  \n",
      " 4   weather     10886 non-null  int64  \n",
      " 5   temp        10886 non-null  float64\n",
      " 6   atemp       10886 non-null  float64\n",
      " 7   humidity    10886 non-null  int64  \n",
      " 8   windspeed   10886 non-null  float64\n",
      " 9   casual      10886 non-null  int64  \n",
      " 10  registered  10886 non-null  int64  \n",
      " 11  count       10886 non-null  int64  \n",
      "dtypes: float64(3), int64(8), object(1)\n",
      "memory usage: 1020.7+ KB\n"
     ]
    }
   ],
   "source": [
    "bike_data.info()"
   ]
  },
  {
   "cell_type": "code",
   "execution_count": 5,
   "id": "d52f4a0c",
   "metadata": {},
   "outputs": [
    {
     "data": {
      "text/plain": [
       "Index(['datetime', 'season', 'holiday', 'workingday', 'weather', 'temp',\n",
       "       'atemp', 'humidity', 'windspeed', 'casual', 'registered', 'count'],\n",
       "      dtype='object')"
      ]
     },
     "execution_count": 5,
     "metadata": {},
     "output_type": "execute_result"
    }
   ],
   "source": [
    "bike_data.columns"
   ]
  },
  {
   "cell_type": "code",
   "execution_count": 6,
   "id": "611d6705",
   "metadata": {
    "execution": {
     "iopub.execute_input": "2022-04-20T13:40:55.245246Z",
     "iopub.status.busy": "2022-04-20T13:40:55.244960Z",
     "iopub.status.idle": "2022-04-20T13:40:55.258983Z",
     "shell.execute_reply": "2022-04-20T13:40:55.258371Z"
    },
    "papermill": {
     "duration": 0.137814,
     "end_time": "2022-04-20T13:40:55.260675",
     "exception": false,
     "start_time": "2022-04-20T13:40:55.122861",
     "status": "completed"
    },
    "tags": []
   },
   "outputs": [],
   "source": [
    "# Converting timestamp object into timestamp64[ns] for finding useful insights\n",
    "bike_data['datetime'] = bike_data['datetime'].astype('datetime64[ns]')"
   ]
  },
  {
   "cell_type": "code",
   "execution_count": 7,
   "id": "a3b6006c",
   "metadata": {
    "execution": {
     "iopub.execute_input": "2022-04-20T13:40:55.506516Z",
     "iopub.status.busy": "2022-04-20T13:40:55.505670Z",
     "iopub.status.idle": "2022-04-20T13:40:55.518049Z",
     "shell.execute_reply": "2022-04-20T13:40:55.517140Z"
    },
    "papermill": {
     "duration": 0.139366,
     "end_time": "2022-04-20T13:40:55.520167",
     "exception": false,
     "start_time": "2022-04-20T13:40:55.380801",
     "status": "completed"
    },
    "tags": []
   },
   "outputs": [
    {
     "name": "stdout",
     "output_type": "stream",
     "text": [
      "<class 'pandas.core.frame.DataFrame'>\n",
      "RangeIndex: 10886 entries, 0 to 10885\n",
      "Data columns (total 12 columns):\n",
      " #   Column      Non-Null Count  Dtype         \n",
      "---  ------      --------------  -----         \n",
      " 0   datetime    10886 non-null  datetime64[ns]\n",
      " 1   season      10886 non-null  int64         \n",
      " 2   holiday     10886 non-null  int64         \n",
      " 3   workingday  10886 non-null  int64         \n",
      " 4   weather     10886 non-null  int64         \n",
      " 5   temp        10886 non-null  float64       \n",
      " 6   atemp       10886 non-null  float64       \n",
      " 7   humidity    10886 non-null  int64         \n",
      " 8   windspeed   10886 non-null  float64       \n",
      " 9   casual      10886 non-null  int64         \n",
      " 10  registered  10886 non-null  int64         \n",
      " 11  count       10886 non-null  int64         \n",
      "dtypes: datetime64[ns](1), float64(3), int64(8)\n",
      "memory usage: 1020.7 KB\n"
     ]
    }
   ],
   "source": [
    "bike_data.info()"
   ]
  },
  {
   "cell_type": "code",
   "execution_count": 8,
   "id": "61bc8e27",
   "metadata": {
    "execution": {
     "iopub.execute_input": "2022-04-20T13:40:55.766222Z",
     "iopub.status.busy": "2022-04-20T13:40:55.765963Z",
     "iopub.status.idle": "2022-04-20T13:40:55.771331Z",
     "shell.execute_reply": "2022-04-20T13:40:55.770519Z"
    },
    "papermill": {
     "duration": 0.132141,
     "end_time": "2022-04-20T13:40:55.774241",
     "exception": false,
     "start_time": "2022-04-20T13:40:55.642100",
     "status": "completed"
    },
    "tags": []
   },
   "outputs": [
    {
     "data": {
      "text/plain": [
       "(10886, 12)"
      ]
     },
     "execution_count": 8,
     "metadata": {},
     "output_type": "execute_result"
    }
   ],
   "source": [
    "bike_data.shape"
   ]
  },
  {
   "cell_type": "code",
   "execution_count": 9,
   "id": "586f1b5b",
   "metadata": {
    "execution": {
     "iopub.execute_input": "2022-04-20T13:40:56.020612Z",
     "iopub.status.busy": "2022-04-20T13:40:56.020009Z",
     "iopub.status.idle": "2022-04-20T13:40:56.030082Z",
     "shell.execute_reply": "2022-04-20T13:40:56.029187Z"
    },
    "papermill": {
     "duration": 0.135307,
     "end_time": "2022-04-20T13:40:56.032115",
     "exception": false,
     "start_time": "2022-04-20T13:40:55.896808",
     "status": "completed"
    },
    "tags": []
   },
   "outputs": [
    {
     "data": {
      "text/plain": [
       "datetime      0.0\n",
       "season        0.0\n",
       "holiday       0.0\n",
       "workingday    0.0\n",
       "weather       0.0\n",
       "temp          0.0\n",
       "atemp         0.0\n",
       "humidity      0.0\n",
       "windspeed     0.0\n",
       "casual        0.0\n",
       "registered    0.0\n",
       "count         0.0\n",
       "dtype: float64"
      ]
     },
     "execution_count": 9,
     "metadata": {},
     "output_type": "execute_result"
    }
   ],
   "source": [
    "bike_data.isnull().sum()/len(bike_data) * 100"
   ]
  },
  {
   "cell_type": "code",
   "execution_count": 10,
   "id": "be1cd7de",
   "metadata": {
    "execution": {
     "iopub.execute_input": "2022-04-20T13:40:56.278108Z",
     "iopub.status.busy": "2022-04-20T13:40:56.277551Z",
     "iopub.status.idle": "2022-04-20T13:40:56.290748Z",
     "shell.execute_reply": "2022-04-20T13:40:56.289858Z"
    },
    "papermill": {
     "duration": 0.139182,
     "end_time": "2022-04-20T13:40:56.292748",
     "exception": false,
     "start_time": "2022-04-20T13:40:56.153566",
     "status": "completed"
    },
    "tags": []
   },
   "outputs": [
    {
     "data": {
      "text/plain": [
       "datetime      10886\n",
       "season            4\n",
       "holiday           2\n",
       "workingday        2\n",
       "weather           4\n",
       "temp             49\n",
       "atemp            60\n",
       "humidity         89\n",
       "windspeed        28\n",
       "casual          309\n",
       "registered      731\n",
       "count           822\n",
       "dtype: int64"
      ]
     },
     "execution_count": 10,
     "metadata": {},
     "output_type": "execute_result"
    }
   ],
   "source": [
    "bike_data.nunique()"
   ]
  },
  {
   "cell_type": "code",
   "execution_count": 14,
   "id": "2a93c518",
   "metadata": {
    "execution": {
     "iopub.execute_input": "2022-04-20T13:40:56.542986Z",
     "iopub.status.busy": "2022-04-20T13:40:56.542502Z",
     "iopub.status.idle": "2022-04-20T13:40:56.558153Z",
     "shell.execute_reply": "2022-04-20T13:40:56.557071Z"
    },
    "papermill": {
     "duration": 0.145359,
     "end_time": "2022-04-20T13:40:56.560554",
     "exception": false,
     "start_time": "2022-04-20T13:40:56.415195",
     "status": "completed"
    },
    "tags": []
   },
   "outputs": [
    {
     "data": {
      "text/plain": [
       "0"
      ]
     },
     "execution_count": 14,
     "metadata": {},
     "output_type": "execute_result"
    }
   ],
   "source": [
    "bike_data.duplicated().sum()"
   ]
  },
  {
   "cell_type": "markdown",
   "id": "f8a42e24",
   "metadata": {
    "papermill": {
     "duration": 0.124323,
     "end_time": "2022-04-20T13:40:56.811255",
     "exception": false,
     "start_time": "2022-04-20T13:40:56.686932",
     "status": "completed"
    },
    "tags": []
   },
   "source": [
    "**Observations:** \n",
    "- There are total 4 categorical features namely Season, is_holiday, is_weekend, weather_code and 7 numerical/continuos features and 1 datatime object. In total 12 independent features with 10886 rows.\n",
    "- Missing data or Null values are not present , neither any duplicated row is there."
   ]
  },
  {
   "cell_type": "markdown",
   "id": "9e8ceda3",
   "metadata": {
    "papermill": {
     "duration": 0.125204,
     "end_time": "2022-04-20T13:40:57.060741",
     "exception": false,
     "start_time": "2022-04-20T13:40:56.935537",
     "status": "completed"
    },
    "tags": []
   },
   "source": [
    "## Outlier Detection & Removal:"
   ]
  },
  {
   "cell_type": "code",
   "execution_count": 12,
   "id": "8dc25b5f",
   "metadata": {
    "execution": {
     "iopub.execute_input": "2022-04-20T13:40:57.309960Z",
     "iopub.status.busy": "2022-04-20T13:40:57.309650Z",
     "iopub.status.idle": "2022-04-20T13:40:58.097300Z",
     "shell.execute_reply": "2022-04-20T13:40:58.096301Z"
    },
    "papermill": {
     "duration": 0.915573,
     "end_time": "2022-04-20T13:40:58.100266",
     "exception": false,
     "start_time": "2022-04-20T13:40:57.184693",
     "status": "completed"
    },
    "tags": []
   },
   "outputs": [
    {
     "data": {
      "image/png": "[encoded data removed]",
      "text/plain": [
       "<Figure size 1080x720 with 4 Axes>"
      ]
     },
     "metadata": {
      "needs_background": "light"
     },
     "output_type": "display_data"
    }
   ],
   "source": [
    "# Visualization before outlier removal\n",
    "fig = plt.figure(figsize = (15,10))\n",
    "\n",
    "ax1 = fig.add_subplot(221)\n",
    "sns.boxplot(x = 'season', y = 'count', data = bike_data)\n",
    "ax1.set_title('Boxplot for season vs corresponding bike renting cnts')\n",
    "\n",
    "ax1 = fig.add_subplot(222)\n",
    "sns.boxplot(x = 'holiday', y = 'count', data = bike_data)\n",
    "ax1.set_title('Boxplot for holiday vs corresponding bike renting cnts')\n",
    "\n",
    "ax1 = fig.add_subplot(223)\n",
    "sns.boxplot(x = 'workingday', y = 'count', data = bike_data)\n",
    "ax1.set_title('Boxplot for workingday vs corresponding bike renting cnts')\n",
    "\n",
    "ax1 = fig.add_subplot(224)\n",
    "sns.boxplot(x = 'weather', y = 'count', data = bike_data)\n",
    "ax1.set_title('Boxplot for weather vs corresponding bike renting cnts')\n",
    "\n",
    "plt.show()"
   ]
  },
  {
   "cell_type": "code",
   "execution_count": 14,
   "id": "7d6f1553",
   "metadata": {
    "execution": {
     "iopub.execute_input": "2022-04-20T13:41:01.807163Z",
     "iopub.status.busy": "2022-04-20T13:41:01.806600Z",
     "iopub.status.idle": "2022-04-20T13:41:01.810972Z",
     "shell.execute_reply": "2022-04-20T13:41:01.810130Z"
    },
    "papermill": {
     "duration": 0.149944,
     "end_time": "2022-04-20T13:41:01.813040",
     "exception": false,
     "start_time": "2022-04-20T13:41:01.663096",
     "status": "completed"
    },
    "tags": []
   },
   "outputs": [],
   "source": [
    "bike_dcopy = bike_data.copy() # Taken backup of orginial dataset before removing outliersxx"
   ]
  },
  {
   "cell_type": "code",
   "execution_count": 15,
   "id": "5e9dd8f2",
   "metadata": {
    "execution": {
     "iopub.execute_input": "2022-04-20T13:41:02.098453Z",
     "iopub.status.busy": "2022-04-20T13:41:02.098138Z",
     "iopub.status.idle": "2022-04-20T13:41:02.109841Z",
     "shell.execute_reply": "2022-04-20T13:41:02.108952Z"
    },
    "papermill": {
     "duration": 0.156934,
     "end_time": "2022-04-20T13:41:02.111800",
     "exception": false,
     "start_time": "2022-04-20T13:41:01.954866",
     "status": "completed"
    },
    "tags": []
   },
   "outputs": [
    {
     "data": {
      "text/plain": [
       "(10586, 12)"
      ]
     },
     "execution_count": 15,
     "metadata": {},
     "output_type": "execute_result"
    }
   ],
   "source": [
    "q1=bike_data['count'].quantile(0.25)\n",
    "q3=bike_data['count'].quantile(0.75)\n",
    "iqr=q3-q1\n",
    "bike_data = bike_data[(bike_data['count'] >= q1 - 1.5*iqr) & (bike_data['count'] <= q3 +1.5*iqr)]\n",
    "bike_data.shape"
   ]
  },
  {
   "cell_type": "code",
   "execution_count": 17,
   "id": "6df3c487",
   "metadata": {
    "execution": {
     "iopub.execute_input": "2022-04-20T13:41:02.395507Z",
     "iopub.status.busy": "2022-04-20T13:41:02.394766Z",
     "iopub.status.idle": "2022-04-20T13:41:02.400048Z",
     "shell.execute_reply": "2022-04-20T13:41:02.399458Z"
    },
    "papermill": {
     "duration": 0.149668,
     "end_time": "2022-04-20T13:41:02.401835",
     "exception": false,
     "start_time": "2022-04-20T13:41:02.252167",
     "status": "completed"
    },
    "tags": []
   },
   "outputs": [
    {
     "data": {
      "text/plain": [
       "300"
      ]
     },
     "execution_count": 17,
     "metadata": {},
     "output_type": "execute_result"
    }
   ],
   "source": [
    "bike_dcopy.shape[0] - bike_data.shape[0]"
   ]
  },
  {
   "cell_type": "markdown",
   "id": "a1a230dd",
   "metadata": {
    "papermill": {
     "duration": 0.161141,
     "end_time": "2022-04-20T13:41:08.225183",
     "exception": false,
     "start_time": "2022-04-20T13:41:08.064042",
     "status": "completed"
    },
    "tags": []
   },
   "source": [
    "# Univariate Analysis and Bivariate Analysis:"
   ]
  },
  {
   "cell_type": "markdown",
   "id": "77ddc836",
   "metadata": {
    "papermill": {
     "duration": 0.163542,
     "end_time": "2022-04-20T13:41:08.550859",
     "exception": false,
     "start_time": "2022-04-20T13:41:08.387317",
     "status": "completed"
    },
    "tags": []
   },
   "source": [
    "**timestamp specific EDA:**"
   ]
  },
  {
   "cell_type": "markdown",
   "id": "3454522a",
   "metadata": {
    "papermill": {
     "duration": 0.164172,
     "end_time": "2022-04-20T13:41:08.878337",
     "exception": false,
     "start_time": "2022-04-20T13:41:08.714165",
     "status": "completed"
    },
    "tags": []
   },
   "source": [
    "As we will be finding some useful insights w.r.t the timeseries data, we will be working on the original dataset before removing outliers which is **bike_dcopy**"
   ]
  },
  {
   "cell_type": "code",
   "execution_count": 18,
   "id": "021fc752",
   "metadata": {},
   "outputs": [],
   "source": [
    "bike_datatime=pd.read_csv('https://d2beiqkhq929f0.cloudfront.net/public_assets/assets/000/001/428/original/bike_sharing.csv?1642089089')"
   ]
  },
  {
   "cell_type": "code",
   "execution_count": 24,
   "id": "5b94e2e6",
   "metadata": {},
   "outputs": [
    {
     "data": {
      "text/plain": [
       "Index(['datetime', 'season', 'holiday', 'workingday', 'weather', 'temp',\n",
       "       'atemp', 'humidity', 'windspeed', 'casual', 'registered', 'count',\n",
       "       'Year', 'Month', 'Day'],\n",
       "      dtype='object')"
      ]
     },
     "execution_count": 24,
     "metadata": {},
     "output_type": "execute_result"
    }
   ],
   "source": [
    "bike_dcopy.columns"
   ]
  },
  {
   "cell_type": "code",
   "execution_count": 25,
   "id": "e71fe6f2",
   "metadata": {
    "execution": {
     "iopub.execute_input": "2022-04-20T13:41:09.590574Z",
     "iopub.status.busy": "2022-04-20T13:41:09.590025Z",
     "iopub.status.idle": "2022-04-20T13:41:09.598922Z",
     "shell.execute_reply": "2022-04-20T13:41:09.598018Z"
    },
    "papermill": {
     "duration": 0.175326,
     "end_time": "2022-04-20T13:41:09.600836",
     "exception": false,
     "start_time": "2022-04-20T13:41:09.425510",
     "status": "completed"
    },
    "tags": []
   },
   "outputs": [
    {
     "data": {
      "text/plain": [
       "0       2011-01-01 00:00:00\n",
       "1       2011-01-01 01:00:00\n",
       "2       2011-01-01 02:00:00\n",
       "3       2011-01-01 03:00:00\n",
       "4       2011-01-01 04:00:00\n",
       "                ...        \n",
       "10881   2012-12-19 19:00:00\n",
       "10882   2012-12-19 20:00:00\n",
       "10883   2012-12-19 21:00:00\n",
       "10884   2012-12-19 22:00:00\n",
       "10885   2012-12-19 23:00:00\n",
       "Name: datetime, Length: 10886, dtype: datetime64[ns]"
      ]
     },
     "execution_count": 25,
     "metadata": {},
     "output_type": "execute_result"
    }
   ],
   "source": [
    "bike_dcopy[\"datetime\"].sort_values() "
   ]
  },
  {
   "cell_type": "code",
   "execution_count": 26,
   "id": "6d1e71a3",
   "metadata": {
    "execution": {
     "iopub.execute_input": "2022-04-20T13:41:09.937384Z",
     "iopub.status.busy": "2022-04-20T13:41:09.937106Z",
     "iopub.status.idle": "2022-04-20T13:41:09.971942Z",
     "shell.execute_reply": "2022-04-20T13:41:09.971084Z"
    },
    "papermill": {
     "duration": 0.20695,
     "end_time": "2022-04-20T13:41:09.973879",
     "exception": false,
     "start_time": "2022-04-20T13:41:09.766929",
     "status": "completed"
    },
    "scrolled": true,
    "tags": []
   },
   "outputs": [
    {
     "data": {
      "text/html": [
       "<div>\n",
       "<style scoped>\n",
       "    .dataframe tbody tr th:only-of-type {\n",
       "        vertical-align: middle;\n",
       "    }\n",
       "\n",
       "    .dataframe tbody tr th {\n",
       "        vertical-align: top;\n",
       "    }\n",
       "\n",
       "    .dataframe thead th {\n",
       "        text-align: right;\n",
       "    }\n",
       "</style>\n",
       "<table border=\"1\" class=\"dataframe\">\n",
       "  <thead>\n",
       "    <tr style=\"text-align: right;\">\n",
       "      <th></th>\n",
       "      <th>datetime</th>\n",
       "      <th>season</th>\n",
       "      <th>holiday</th>\n",
       "      <th>workingday</th>\n",
       "      <th>weather</th>\n",
       "      <th>temp</th>\n",
       "      <th>atemp</th>\n",
       "      <th>humidity</th>\n",
       "      <th>windspeed</th>\n",
       "      <th>casual</th>\n",
       "      <th>registered</th>\n",
       "      <th>count</th>\n",
       "      <th>Year</th>\n",
       "      <th>Month</th>\n",
       "      <th>Day</th>\n",
       "    </tr>\n",
       "  </thead>\n",
       "  <tbody>\n",
       "    <tr>\n",
       "      <th>0</th>\n",
       "      <td>2011-01-01 00:00:00</td>\n",
       "      <td>1</td>\n",
       "      <td>0</td>\n",
       "      <td>0</td>\n",
       "      <td>1</td>\n",
       "      <td>9.84</td>\n",
       "      <td>14.395</td>\n",
       "      <td>81</td>\n",
       "      <td>0.0000</td>\n",
       "      <td>3</td>\n",
       "      <td>13</td>\n",
       "      <td>16</td>\n",
       "      <td>2011</td>\n",
       "      <td>1</td>\n",
       "      <td>1</td>\n",
       "    </tr>\n",
       "    <tr>\n",
       "      <th>1</th>\n",
       "      <td>2011-01-01 01:00:00</td>\n",
       "      <td>1</td>\n",
       "      <td>0</td>\n",
       "      <td>0</td>\n",
       "      <td>1</td>\n",
       "      <td>9.02</td>\n",
       "      <td>13.635</td>\n",
       "      <td>80</td>\n",
       "      <td>0.0000</td>\n",
       "      <td>8</td>\n",
       "      <td>32</td>\n",
       "      <td>40</td>\n",
       "      <td>2011</td>\n",
       "      <td>1</td>\n",
       "      <td>1</td>\n",
       "    </tr>\n",
       "    <tr>\n",
       "      <th>2</th>\n",
       "      <td>2011-01-01 02:00:00</td>\n",
       "      <td>1</td>\n",
       "      <td>0</td>\n",
       "      <td>0</td>\n",
       "      <td>1</td>\n",
       "      <td>9.02</td>\n",
       "      <td>13.635</td>\n",
       "      <td>80</td>\n",
       "      <td>0.0000</td>\n",
       "      <td>5</td>\n",
       "      <td>27</td>\n",
       "      <td>32</td>\n",
       "      <td>2011</td>\n",
       "      <td>1</td>\n",
       "      <td>1</td>\n",
       "    </tr>\n",
       "    <tr>\n",
       "      <th>3</th>\n",
       "      <td>2011-01-01 03:00:00</td>\n",
       "      <td>1</td>\n",
       "      <td>0</td>\n",
       "      <td>0</td>\n",
       "      <td>1</td>\n",
       "      <td>9.84</td>\n",
       "      <td>14.395</td>\n",
       "      <td>75</td>\n",
       "      <td>0.0000</td>\n",
       "      <td>3</td>\n",
       "      <td>10</td>\n",
       "      <td>13</td>\n",
       "      <td>2011</td>\n",
       "      <td>1</td>\n",
       "      <td>1</td>\n",
       "    </tr>\n",
       "    <tr>\n",
       "      <th>4</th>\n",
       "      <td>2011-01-01 04:00:00</td>\n",
       "      <td>1</td>\n",
       "      <td>0</td>\n",
       "      <td>0</td>\n",
       "      <td>1</td>\n",
       "      <td>9.84</td>\n",
       "      <td>14.395</td>\n",
       "      <td>75</td>\n",
       "      <td>0.0000</td>\n",
       "      <td>0</td>\n",
       "      <td>1</td>\n",
       "      <td>1</td>\n",
       "      <td>2011</td>\n",
       "      <td>1</td>\n",
       "      <td>1</td>\n",
       "    </tr>\n",
       "    <tr>\n",
       "      <th>...</th>\n",
       "      <td>...</td>\n",
       "      <td>...</td>\n",
       "      <td>...</td>\n",
       "      <td>...</td>\n",
       "      <td>...</td>\n",
       "      <td>...</td>\n",
       "      <td>...</td>\n",
       "      <td>...</td>\n",
       "      <td>...</td>\n",
       "      <td>...</td>\n",
       "      <td>...</td>\n",
       "      <td>...</td>\n",
       "      <td>...</td>\n",
       "      <td>...</td>\n",
       "      <td>...</td>\n",
       "    </tr>\n",
       "    <tr>\n",
       "      <th>10881</th>\n",
       "      <td>2012-12-19 19:00:00</td>\n",
       "      <td>4</td>\n",
       "      <td>0</td>\n",
       "      <td>1</td>\n",
       "      <td>1</td>\n",
       "      <td>15.58</td>\n",
       "      <td>19.695</td>\n",
       "      <td>50</td>\n",
       "      <td>26.0027</td>\n",
       "      <td>7</td>\n",
       "      <td>329</td>\n",
       "      <td>336</td>\n",
       "      <td>2012</td>\n",
       "      <td>12</td>\n",
       "      <td>19</td>\n",
       "    </tr>\n",
       "    <tr>\n",
       "      <th>10882</th>\n",
       "      <td>2012-12-19 20:00:00</td>\n",
       "      <td>4</td>\n",
       "      <td>0</td>\n",
       "      <td>1</td>\n",
       "      <td>1</td>\n",
       "      <td>14.76</td>\n",
       "      <td>17.425</td>\n",
       "      <td>57</td>\n",
       "      <td>15.0013</td>\n",
       "      <td>10</td>\n",
       "      <td>231</td>\n",
       "      <td>241</td>\n",
       "      <td>2012</td>\n",
       "      <td>12</td>\n",
       "      <td>19</td>\n",
       "    </tr>\n",
       "    <tr>\n",
       "      <th>10883</th>\n",
       "      <td>2012-12-19 21:00:00</td>\n",
       "      <td>4</td>\n",
       "      <td>0</td>\n",
       "      <td>1</td>\n",
       "      <td>1</td>\n",
       "      <td>13.94</td>\n",
       "      <td>15.910</td>\n",
       "      <td>61</td>\n",
       "      <td>15.0013</td>\n",
       "      <td>4</td>\n",
       "      <td>164</td>\n",
       "      <td>168</td>\n",
       "      <td>2012</td>\n",
       "      <td>12</td>\n",
       "      <td>19</td>\n",
       "    </tr>\n",
       "    <tr>\n",
       "      <th>10884</th>\n",
       "      <td>2012-12-19 22:00:00</td>\n",
       "      <td>4</td>\n",
       "      <td>0</td>\n",
       "      <td>1</td>\n",
       "      <td>1</td>\n",
       "      <td>13.94</td>\n",
       "      <td>17.425</td>\n",
       "      <td>61</td>\n",
       "      <td>6.0032</td>\n",
       "      <td>12</td>\n",
       "      <td>117</td>\n",
       "      <td>129</td>\n",
       "      <td>2012</td>\n",
       "      <td>12</td>\n",
       "      <td>19</td>\n",
       "    </tr>\n",
       "    <tr>\n",
       "      <th>10885</th>\n",
       "      <td>2012-12-19 23:00:00</td>\n",
       "      <td>4</td>\n",
       "      <td>0</td>\n",
       "      <td>1</td>\n",
       "      <td>1</td>\n",
       "      <td>13.12</td>\n",
       "      <td>16.665</td>\n",
       "      <td>66</td>\n",
       "      <td>8.9981</td>\n",
       "      <td>4</td>\n",
       "      <td>84</td>\n",
       "      <td>88</td>\n",
       "      <td>2012</td>\n",
       "      <td>12</td>\n",
       "      <td>19</td>\n",
       "    </tr>\n",
       "  </tbody>\n",
       "</table>\n",
       "<p>10886 rows × 15 columns</p>\n",
       "</div>"
      ],
      "text/plain": [
       "                 datetime  season  holiday  workingday  weather   temp  \\\n",
       "0     2011-01-01 00:00:00       1        0           0        1   9.84   \n",
       "1     2011-01-01 01:00:00       1        0           0        1   9.02   \n",
       "2     2011-01-01 02:00:00       1        0           0        1   9.02   \n",
       "3     2011-01-01 03:00:00       1        0           0        1   9.84   \n",
       "4     2011-01-01 04:00:00       1        0           0        1   9.84   \n",
       "...                   ...     ...      ...         ...      ...    ...   \n",
       "10881 2012-12-19 19:00:00       4        0           1        1  15.58   \n",
       "10882 2012-12-19 20:00:00       4        0           1        1  14.76   \n",
       "10883 2012-12-19 21:00:00       4        0           1        1  13.94   \n",
       "10884 2012-12-19 22:00:00       4        0           1        1  13.94   \n",
       "10885 2012-12-19 23:00:00       4        0           1        1  13.12   \n",
       "\n",
       "        atemp  humidity  windspeed  casual  registered  count  Year  Month  \\\n",
       "0      14.395        81     0.0000       3          13     16  2011      1   \n",
       "1      13.635        80     0.0000       8          32     40  2011      1   \n",
       "2      13.635        80     0.0000       5          27     32  2011      1   \n",
       "3      14.395        75     0.0000       3          10     13  2011      1   \n",
       "4      14.395        75     0.0000       0           1      1  2011      1   \n",
       "...       ...       ...        ...     ...         ...    ...   ...    ...   \n",
       "10881  19.695        50    26.0027       7         329    336  2012     12   \n",
       "10882  17.425        57    15.0013      10         231    241  2012     12   \n",
       "10883  15.910        61    15.0013       4         164    168  2012     12   \n",
       "10884  17.425        61     6.0032      12         117    129  2012     12   \n",
       "10885  16.665        66     8.9981       4          84     88  2012     12   \n",
       "\n",
       "       Day  \n",
       "0        1  \n",
       "1        1  \n",
       "2        1  \n",
       "3        1  \n",
       "4        1  \n",
       "...    ...  \n",
       "10881   19  \n",
       "10882   19  \n",
       "10883   19  \n",
       "10884   19  \n",
       "10885   19  \n",
       "\n",
       "[10886 rows x 15 columns]"
      ]
     },
     "execution_count": 26,
     "metadata": {},
     "output_type": "execute_result"
    }
   ],
   "source": [
    "bike_dcopy['Year'] = bike_dcopy['datetime'].dt.year\n",
    "bike_dcopy['Month'] = bike_dcopy['datetime'].dt.month\n",
    "bike_dcopy['Day'] = bike_dcopy['datetime'].dt.day\n",
    "bike_dcopy"
   ]
  },
  {
   "cell_type": "code",
   "execution_count": 30,
   "id": "8c5dd3bb",
   "metadata": {
    "execution": {
     "iopub.execute_input": "2022-04-20T13:41:11.017563Z",
     "iopub.status.busy": "2022-04-20T13:41:11.017006Z",
     "iopub.status.idle": "2022-04-20T13:41:11.023406Z",
     "shell.execute_reply": "2022-04-20T13:41:11.022830Z"
    },
    "papermill": {
     "duration": 0.197488,
     "end_time": "2022-04-20T13:41:11.025359",
     "exception": false,
     "start_time": "2022-04-20T13:41:10.827871",
     "status": "completed"
    },
    "tags": []
   },
   "outputs": [],
   "source": [
    "bike_dcopy['year'] = bike_dcopy['datetime'].dt.year"
   ]
  },
  {
   "cell_type": "code",
   "execution_count": 31,
   "id": "b8db029a",
   "metadata": {
    "execution": {
     "iopub.execute_input": "2022-04-20T13:41:11.358910Z",
     "iopub.status.busy": "2022-04-20T13:41:11.358377Z",
     "iopub.status.idle": "2022-04-20T13:41:11.365076Z",
     "shell.execute_reply": "2022-04-20T13:41:11.364152Z"
    },
    "papermill": {
     "duration": 0.174909,
     "end_time": "2022-04-20T13:41:11.367122",
     "exception": false,
     "start_time": "2022-04-20T13:41:11.192213",
     "status": "completed"
    },
    "tags": []
   },
   "outputs": [],
   "source": [
    "bike_dcopy['month'] = bike_dcopy['datetime'].dt.month"
   ]
  },
  {
   "cell_type": "code",
   "execution_count": 28,
   "id": "f539eb05",
   "metadata": {
    "execution": {
     "iopub.execute_input": "2022-04-20T13:41:11.698454Z",
     "iopub.status.busy": "2022-04-20T13:41:11.697946Z",
     "iopub.status.idle": "2022-04-20T13:41:11.716344Z",
     "shell.execute_reply": "2022-04-20T13:41:11.715798Z"
    },
    "papermill": {
     "duration": 0.18663,
     "end_time": "2022-04-20T13:41:11.718163",
     "exception": false,
     "start_time": "2022-04-20T13:41:11.531533",
     "status": "completed"
    },
    "tags": []
   },
   "outputs": [
    {
     "data": {
      "text/html": [
       "<div>\n",
       "<style scoped>\n",
       "    .dataframe tbody tr th:only-of-type {\n",
       "        vertical-align: middle;\n",
       "    }\n",
       "\n",
       "    .dataframe tbody tr th {\n",
       "        vertical-align: top;\n",
       "    }\n",
       "\n",
       "    .dataframe thead th {\n",
       "        text-align: right;\n",
       "    }\n",
       "</style>\n",
       "<table border=\"1\" class=\"dataframe\">\n",
       "  <thead>\n",
       "    <tr style=\"text-align: right;\">\n",
       "      <th></th>\n",
       "      <th>datetime</th>\n",
       "      <th>season</th>\n",
       "      <th>holiday</th>\n",
       "      <th>workingday</th>\n",
       "      <th>weather</th>\n",
       "      <th>temp</th>\n",
       "      <th>atemp</th>\n",
       "      <th>humidity</th>\n",
       "      <th>windspeed</th>\n",
       "      <th>casual</th>\n",
       "      <th>registered</th>\n",
       "      <th>count</th>\n",
       "      <th>Year</th>\n",
       "      <th>Month</th>\n",
       "      <th>Day</th>\n",
       "    </tr>\n",
       "  </thead>\n",
       "  <tbody>\n",
       "    <tr>\n",
       "      <th>0</th>\n",
       "      <td>2011-01-01</td>\n",
       "      <td>1</td>\n",
       "      <td>0</td>\n",
       "      <td>0</td>\n",
       "      <td>1</td>\n",
       "      <td>9.84</td>\n",
       "      <td>14.395</td>\n",
       "      <td>81</td>\n",
       "      <td>0.0</td>\n",
       "      <td>3</td>\n",
       "      <td>13</td>\n",
       "      <td>16</td>\n",
       "      <td>2011</td>\n",
       "      <td>1</td>\n",
       "      <td>1</td>\n",
       "    </tr>\n",
       "  </tbody>\n",
       "</table>\n",
       "</div>"
      ],
      "text/plain": [
       "    datetime  season  holiday  workingday  weather  temp   atemp  humidity  \\\n",
       "0 2011-01-01       1        0           0        1  9.84  14.395        81   \n",
       "\n",
       "   windspeed  casual  registered  count  Year  Month  Day  \n",
       "0        0.0       3          13     16  2011      1    1  "
      ]
     },
     "execution_count": 28,
     "metadata": {},
     "output_type": "execute_result"
    }
   ],
   "source": [
    "bike_dcopy.head(1)"
   ]
  },
  {
   "cell_type": "code",
   "execution_count": 32,
   "id": "444f7c3a",
   "metadata": {
    "execution": {
     "iopub.execute_input": "2022-04-20T13:41:12.089167Z",
     "iopub.status.busy": "2022-04-20T13:41:12.088631Z",
     "iopub.status.idle": "2022-04-20T13:41:12.252764Z",
     "shell.execute_reply": "2022-04-20T13:41:12.251893Z"
    },
    "papermill": {
     "duration": 0.337871,
     "end_time": "2022-04-20T13:41:12.254754",
     "exception": false,
     "start_time": "2022-04-20T13:41:11.916883",
     "status": "completed"
    },
    "tags": []
   },
   "outputs": [
    {
     "data": {
      "image/png": "[encoded data removed]",
      "text/plain": [
       "<Figure size 432x288 with 1 Axes>"
      ]
     },
     "metadata": {
      "needs_background": "light"
     },
     "output_type": "display_data"
    }
   ],
   "source": [
    "year_data = bike_dcopy.groupby(['year'])['count'].sum()\n",
    "year_data = year_data.reset_index()\n",
    "sns.barplot(x='year',y='count',data=year_data)\n",
    "plt.title('Count of booking per year')\n",
    "plt.show()"
   ]
  },
  {
   "cell_type": "code",
   "execution_count": 33,
   "id": "1362db75",
   "metadata": {
    "execution": {
     "iopub.execute_input": "2022-04-20T13:41:12.588187Z",
     "iopub.status.busy": "2022-04-20T13:41:12.587687Z",
     "iopub.status.idle": "2022-04-20T13:41:12.816212Z",
     "shell.execute_reply": "2022-04-20T13:41:12.815231Z"
    },
    "papermill": {
     "duration": 0.398331,
     "end_time": "2022-04-20T13:41:12.818519",
     "exception": false,
     "start_time": "2022-04-20T13:41:12.420188",
     "status": "completed"
    },
    "tags": []
   },
   "outputs": [
    {
     "data": {
      "image/png": "[encoded data removed]",
      "text/plain": [
       "<Figure size 432x288 with 1 Axes>"
      ]
     },
     "metadata": {
      "needs_background": "light"
     },
     "output_type": "display_data"
    }
   ],
   "source": [
    "month_data = bike_dcopy.groupby(['month'])['count'].sum()\n",
    "month_data = month_data.reset_index()\n",
    "sns.barplot(x='month',y='count',data=month_data)\n",
    "plt.title('Count of booking per month')\n",
    "plt.show()"
   ]
  },
  {
   "cell_type": "code",
   "execution_count": 34,
   "id": "31346449",
   "metadata": {
    "execution": {
     "iopub.execute_input": "2022-04-20T13:41:13.158555Z",
     "iopub.status.busy": "2022-04-20T13:41:13.158003Z",
     "iopub.status.idle": "2022-04-20T13:41:13.171639Z",
     "shell.execute_reply": "2022-04-20T13:41:13.170961Z"
    },
    "papermill": {
     "duration": 0.187179,
     "end_time": "2022-04-20T13:41:13.173816",
     "exception": false,
     "start_time": "2022-04-20T13:41:12.986637",
     "status": "completed"
    },
    "tags": []
   },
   "outputs": [],
   "source": [
    "mon_year_data = bike_dcopy.groupby(['year','month'])['count'].sum()\n",
    "mon_year_data = pd.DataFrame(mon_year_data)\n",
    "mon_year_data.reset_index(inplace = True)\n",
    "myy = mon_year_data.pivot('month','year','count').fillna(0)"
   ]
  },
  {
   "cell_type": "code",
   "execution_count": 35,
   "id": "e1db32d2",
   "metadata": {
    "execution": {
     "iopub.execute_input": "2022-04-20T13:41:13.511521Z",
     "iopub.status.busy": "2022-04-20T13:41:13.511223Z",
     "iopub.status.idle": "2022-04-20T13:41:13.771930Z",
     "shell.execute_reply": "2022-04-20T13:41:13.770836Z"
    },
    "papermill": {
     "duration": 0.431608,
     "end_time": "2022-04-20T13:41:13.774743",
     "exception": false,
     "start_time": "2022-04-20T13:41:13.343135",
     "status": "completed"
    },
    "tags": []
   },
   "outputs": [
    {
     "data": {
      "image/png": "[encoded data removed]",
      "text/plain": [
       "<Figure size 432x288 with 2 Axes>"
      ]
     },
     "metadata": {
      "needs_background": "light"
     },
     "output_type": "display_data"
    }
   ],
   "source": [
    "sns.heatmap(myy)\n",
    "plt.title('Count of booking across years and months')\n",
    "plt.xlabel('Year')\n",
    "plt.ylabel('Month')\n",
    "plt.show()"
   ]
  },
  {
   "cell_type": "markdown",
   "id": "8a29e235",
   "metadata": {
    "papermill": {
     "duration": 0.169633,
     "end_time": "2022-04-20T13:41:14.114362",
     "exception": false,
     "start_time": "2022-04-20T13:41:13.944729",
     "status": "completed"
    },
    "tags": []
   },
   "source": [
    "As infered earlier the data booking is almost same across all the months."
   ]
  },
  {
   "cell_type": "markdown",
   "id": "3a4773bb",
   "metadata": {
    "papermill": {
     "duration": 0.167925,
     "end_time": "2022-04-20T13:41:14.450468",
     "exception": false,
     "start_time": "2022-04-20T13:41:14.282543",
     "status": "completed"
    },
    "tags": []
   },
   "source": [
    "**Observations:** \n",
    "- As the data ranges from 1st Jan 2011 to 19th Dec 2012, the cnt of the bikes rented will also be in this time period of almost 2 years.\n",
    "- During months of September and October, maximum number of  bikes are rented.\n",
    "- The cnt is less in the cold seasons of winter(Months such as Nov, Dec, Jan, Feb) where due to cold, people prefer mostly not to ride the bikes.\n",
    "- As we can see, the data contains dates from 1 to 19th of a particular month.\n",
    "- As we can from the monthwose bar plot , the demand for  bikes at the starting months is quite low as compared to months from March 2012 onwards. There's adrop in the middle owing to cold and winter season.\n",
    "- Booking from 2017 is nearly zero so far.\n",
    "- Almost all the months have same number of bookings.\n"
   ]
  },
  {
   "cell_type": "code",
   "execution_count": 44,
   "id": "1feffa5e",
   "metadata": {
    "execution": {
     "iopub.execute_input": "2022-04-20T13:41:14.796472Z",
     "iopub.status.busy": "2022-04-20T13:41:14.796149Z",
     "iopub.status.idle": "2022-04-20T13:41:14.803436Z",
     "shell.execute_reply": "2022-04-20T13:41:14.802642Z"
    },
    "papermill": {
     "duration": 0.182137,
     "end_time": "2022-04-20T13:41:14.805406",
     "exception": false,
     "start_time": "2022-04-20T13:41:14.623269",
     "status": "completed"
    },
    "tags": []
   },
   "outputs": [],
   "source": [
    "#Univariate analysis for numerical/continuos variables\n",
    "def num_feat(col_data):\n",
    "    fig,ax = plt.subplots(nrows=1,ncols=2,figsize=(6,3))\n",
    "    sns.histplot(col_data, kde=True, ax=ax[0], color = 'purple')\n",
    "    ax[0].axvline(col_data.mean(), color='r', linestyle='--',linewidth=2)\n",
    "    ax[0].axvline(col_data.median(), color='k', linestyle='dashed', linewidth=2)\n",
    "    ax[0].axvline(col_data.mode()[0],color='y',linestyle='solid',linewidth=2)\n",
    "    sns.boxplot(x=col_data, showmeans=True, ax=ax[1])\n",
    "    plt.tight_layout()"
   ]
  },
  {
   "cell_type": "code",
   "execution_count": 45,
   "id": "10e9f7b4",
   "metadata": {
    "execution": {
     "iopub.execute_input": "2022-04-20T13:41:15.844836Z",
     "iopub.status.busy": "2022-04-20T13:41:15.844104Z",
     "iopub.status.idle": "2022-04-20T13:41:15.850415Z",
     "shell.execute_reply": "2022-04-20T13:41:15.849559Z"
    },
    "papermill": {
     "duration": 0.178095,
     "end_time": "2022-04-20T13:41:15.852348",
     "exception": false,
     "start_time": "2022-04-20T13:41:15.674253",
     "status": "completed"
    },
    "tags": []
   },
   "outputs": [],
   "source": [
    "num_cols = ['season', 'holiday', 'workingday', 'weather', 'temp',\n",
    "       'atemp', 'humidity', 'windspeed', 'casual', 'registered', 'count']"
   ]
  },
  {
   "cell_type": "code",
   "execution_count": 46,
   "id": "9f6731be",
   "metadata": {
    "execution": {
     "iopub.execute_input": "2022-04-20T13:41:16.192694Z",
     "iopub.status.busy": "2022-04-20T13:41:16.192183Z",
     "iopub.status.idle": "2022-04-20T13:41:19.547380Z",
     "shell.execute_reply": "2022-04-20T13:41:19.546521Z"
    },
    "papermill": {
     "duration": 3.527682,
     "end_time": "2022-04-20T13:41:19.549773",
     "exception": false,
     "start_time": "2022-04-20T13:41:16.022091",
     "status": "completed"
    },
    "tags": []
   },
   "outputs": [
    {
     "data": {
      "image/png": "[encoded data removed]",
      "text/plain": [
       "<Figure size 432x216 with 2 Axes>"
      ]
     },
     "metadata": {
      "needs_background": "light"
     },
     "output_type": "display_data"
    },
    {
     "data": {
      "image/png": "[encoded data removed]",
      "text/plain": [
       "<Figure size 432x216 with 2 Axes>"
      ]
     },
     "metadata": {
      "needs_background": "light"
     },
     "output_type": "display_data"
    },
    {
     "data": {
      "image/png": "[encoded data removed]",
      "text/plain": [
       "<Figure size 432x216 with 2 Axes>"
      ]
     },
     "metadata": {
      "needs_background": "light"
     },
     "output_type": "display_data"
    },
    {
     "data": {
      "image/png": "[encoded data removed]",
      "text/plain": [
       "<Figure size 432x216 with 2 Axes>"
      ]
     },
     "metadata": {
      "needs_background": "light"
     },
     "output_type": "display_data"
    },
    {
     "data": {
      "image/png": "[encoded data removed]",
      "text/plain": [
       "<Figure size 432x216 with 2 Axes>"
      ]
     },
     "metadata": {
      "needs_background": "light"
     },
     "output_type": "display_data"
    },
    {
     "data": {
      "image/png": "[encoded data removed]",
      "text/plain": [
       "<Figure size 432x216 with 2 Axes>"
      ]
     },
     "metadata": {
      "needs_background": "light"
     },
     "output_type": "display_data"
    },
    {
     "data": {
      "image/png": "[encoded data removed]",
      "text/plain": [
       "<Figure size 432x216 with 2 Axes>"
      ]
     },
     "metadata": {
      "needs_background": "light"
     },
     "output_type": "display_data"
    },
    {
     "data": {
      "image/png": "[encoded data removed]",
      "text/plain": [
       "<Figure size 432x216 with 2 Axes>"
      ]
     },
     "metadata": {
      "needs_background": "light"
     },
     "output_type": "display_data"
    },
    {
     "data": {
      "image/png": "[encoded data removed]",
      "text/plain": [
       "<Figure size 432x216 with 2 Axes>"
      ]
     },
     "metadata": {
      "needs_background": "light"
     },
     "output_type": "display_data"
    },
    {
     "data": {
      "image/png": "[encoded data removed]",
      "text/plain": [
       "<Figure size 432x216 with 2 Axes>"
      ]
     },
     "metadata": {
      "needs_background": "light"
     },
     "output_type": "display_data"
    },
    {
     "data": {
      "image/png": "[encoded data removed]",
      "text/plain": [
       "<Figure size 432x216 with 2 Axes>"
      ]
     },
     "metadata": {
      "needs_background": "light"
     },
     "output_type": "display_data"
    }
   ],
   "source": [
    "for i in num_cols:\n",
    "    num_feat(bike_data[i])"
   ]
  },
  {
   "cell_type": "markdown",
   "id": "a2db1ae3",
   "metadata": {
    "papermill": {
     "duration": 0.195009,
     "end_time": "2022-04-20T13:41:22.931367",
     "exception": false,
     "start_time": "2022-04-20T13:41:22.736358",
     "status": "completed"
    },
    "tags": []
   },
   "source": [
    "**Observations for univariate features:**\n",
    "- For weather, 10th and 26th  (Heavy Rain + Ice Pallets + Thunderstorm + Mist, Snow + Fog) no. of users renting bikes is much low and hence it's good to drop the feature while doing further tests.\n",
    "- cnt for bikes rentied in working day is much higher than non working day.\n",
    "- During holidays, people don't prefer to ride bikes.\n",
    "- When the weather is Clear with Few clouds, people tend to rent more  bikes for their comute.\n",
    "- During the spring, summer, fall, winter, the cnt is more or less equal for the users renting bikes\n",
    "- There are outliers in windspeed and casual users which tells us that, the windspeed in not uniform. \n",
    "- The exponentil decay curve for the cnt tells that, as the users renting bikes increases, the frequency decreases."
   ]
  },
  {
   "cell_type": "markdown",
   "id": "2e23f042",
   "metadata": {
    "papermill": {
     "duration": 0.183137,
     "end_time": "2022-04-20T13:41:23.311598",
     "exception": false,
     "start_time": "2022-04-20T13:41:23.128461",
     "status": "completed"
    },
    "tags": []
   },
   "source": [
    "**Corelation between Bivariate features:**\n"
   ]
  },
  {
   "cell_type": "code",
   "execution_count": 47,
   "id": "3eb404f4",
   "metadata": {
    "execution": {
     "iopub.execute_input": "2022-04-20T13:41:23.677408Z",
     "iopub.status.busy": "2022-04-20T13:41:23.676922Z",
     "iopub.status.idle": "2022-04-20T13:41:24.264061Z",
     "shell.execute_reply": "2022-04-20T13:41:24.263207Z"
    },
    "papermill": {
     "duration": 0.773344,
     "end_time": "2022-04-20T13:41:24.266766",
     "exception": false,
     "start_time": "2022-04-20T13:41:23.493422",
     "status": "completed"
    },
    "tags": []
   },
   "outputs": [
    {
     "data": {
      "image/png": "[encoded data removed]",
      "text/plain": [
       "<Figure size 648x504 with 2 Axes>"
      ]
     },
     "metadata": {
      "needs_background": "light"
     },
     "output_type": "display_data"
    }
   ],
   "source": [
    "plt.figure(figsize = (9, 7))\n",
    "sns.heatmap(bike_data.corr(),annot=True)\n",
    "plt.show()"
   ]
  },
  {
   "cell_type": "markdown",
   "id": "61c1078d",
   "metadata": {
    "papermill": {
     "duration": 0.182007,
     "end_time": "2022-04-20T13:41:24.634779",
     "exception": false,
     "start_time": "2022-04-20T13:41:24.452772",
     "status": "completed"
    },
    "tags": []
   },
   "source": [
    "**Observations:**:\n",
    "- The **registered user** cnt has higher corelation with the cnt as compared to the **casual user cnt**.\n",
    "- The **windspeed and season** has a very low(near zero) positive corelation with the cnt which means, the windspeed and seasons doesn't have an effect in the demand of  bikes rented.\n",
    "- The **t1erature and user specific feeling of heat/cold** has a moderated corelation (0.3) with the cnt. People tends to go ot in bright sunny day whne the t1 is normal whereas as during hrsh conditions such as too hot or too cold, the demand in the  bikes has seen a considerable dip.\n",
    "- The casual users who rents  bikes likes to ride the bikes as the t1erature is suitable.\n",
    "- When there's a is_holiday, user cnt has seen a considerable dip whereas in working days, the cnt is normal."
   ]
  },
  {
   "cell_type": "markdown",
   "id": "f2f86cbd",
   "metadata": {
    "papermill": {
     "duration": 0.18765,
     "end_time": "2022-04-20T13:41:25.005367",
     "exception": false,
     "start_time": "2022-04-20T13:41:24.817717",
     "status": "completed"
    },
    "tags": []
   },
   "source": [
    "# Two - Sample T-Test"
   ]
  },
  {
   "cell_type": "markdown",
   "id": "f9c6a720",
   "metadata": {
    "papermill": {
     "duration": 0.18369,
     "end_time": "2022-04-20T13:41:25.373793",
     "exception": false,
     "start_time": "2022-04-20T13:41:25.190103",
     "status": "completed"
    },
    "tags": []
   },
   "source": [
    "**2- Sample T-Test to check if Holiday has an effect on the number of electric cycles rented**"
   ]
  },
  {
   "cell_type": "markdown",
   "id": "d08dd4e2",
   "metadata": {
    "papermill": {
     "duration": 0.182839,
     "end_time": "2022-04-20T13:41:25.739292",
     "exception": false,
     "start_time": "2022-04-20T13:41:25.556453",
     "status": "completed"
    },
    "tags": []
   },
   "source": [
    "#### Step 1: Define Null & Alternate Hypothesis"
   ]
  },
  {
   "cell_type": "markdown",
   "id": "8fd85ce3",
   "metadata": {
    "papermill": {
     "duration": 0.183984,
     "end_time": "2022-04-20T13:41:26.105541",
     "exception": false,
     "start_time": "2022-04-20T13:41:25.921557",
     "status": "completed"
    },
    "tags": []
   },
   "source": [
    "Setting up Null Hypothesis (H0) and Stating the alternate hypothesis (Ha) and significance level\n",
    "- **H0 : The bike's renting cnt in working days and non- working days are equal.**\n",
    "- **Ha : The bike's renting cnt in working days and non- working days is not equal.**\n",
    "- alpha = 0.05"
   ]
  },
  {
   "cell_type": "markdown",
   "id": "509094dc",
   "metadata": {
    "papermill": {
     "duration": 0.182899,
     "end_time": "2022-04-20T13:41:26.471040",
     "exception": false,
     "start_time": "2022-04-20T13:41:26.288141",
     "status": "completed"
    },
    "tags": []
   },
   "source": [
    "#### Step 2: Validate the assumptions\n",
    "**Two-sample t-test assumptions**\n",
    "- Data values must be independent. Measurements for one observation do not affect measurements for any other observation.\n",
    "- Data in each group must be obtained via a random sample from the population.\n",
    "- Data in each group are normally distributed.\n",
    "- Data values are continuous.\n",
    "- The variances for the two independent groups are equal."
   ]
  },
  {
   "cell_type": "code",
   "execution_count": 48,
   "id": "2f976a4b",
   "metadata": {
    "execution": {
     "iopub.execute_input": "2022-04-20T13:41:27.209598Z",
     "iopub.status.busy": "2022-04-20T13:41:27.208766Z",
     "iopub.status.idle": "2022-04-20T13:41:27.214871Z",
     "shell.execute_reply": "2022-04-20T13:41:27.214272Z"
    },
    "papermill": {
     "duration": 0.194236,
     "end_time": "2022-04-20T13:41:27.216658",
     "exception": false,
     "start_time": "2022-04-20T13:41:27.022422",
     "status": "completed"
    },
    "tags": []
   },
   "outputs": [
    {
     "data": {
      "text/plain": [
       "(10586, 12)"
      ]
     },
     "execution_count": 48,
     "metadata": {},
     "output_type": "execute_result"
    }
   ],
   "source": [
    "bike_data.shape"
   ]
  },
  {
   "cell_type": "code",
   "execution_count": 49,
   "id": "7dcd66ab",
   "metadata": {
    "execution": {
     "iopub.execute_input": "2022-04-20T13:41:27.587078Z",
     "iopub.status.busy": "2022-04-20T13:41:27.586534Z",
     "iopub.status.idle": "2022-04-20T13:41:27.593816Z",
     "shell.execute_reply": "2022-04-20T13:41:27.593278Z"
    },
    "papermill": {
     "duration": 0.193686,
     "end_time": "2022-04-20T13:41:27.595588",
     "exception": false,
     "start_time": "2022-04-20T13:41:27.401902",
     "status": "completed"
    },
    "tags": []
   },
   "outputs": [
    {
     "data": {
      "text/plain": [
       "1    67.645947\n",
       "0    32.354053\n",
       "Name: workingday, dtype: float64"
      ]
     },
     "execution_count": 49,
     "metadata": {},
     "output_type": "execute_result"
    }
   ],
   "source": [
    "bike_data['workingday'].value_counts(normalize = True) * 100"
   ]
  },
  {
   "cell_type": "code",
   "execution_count": 50,
   "id": "c0489bdf",
   "metadata": {
    "execution": {
     "iopub.execute_input": "2022-04-20T13:41:27.963989Z",
     "iopub.status.busy": "2022-04-20T13:41:27.963684Z",
     "iopub.status.idle": "2022-04-20T13:41:27.971495Z",
     "shell.execute_reply": "2022-04-20T13:41:27.970651Z"
    },
    "papermill": {
     "duration": 0.195403,
     "end_time": "2022-04-20T13:41:27.973427",
     "exception": false,
     "start_time": "2022-04-20T13:41:27.778024",
     "status": "completed"
    },
    "tags": []
   },
   "outputs": [
    {
     "data": {
      "text/plain": [
       "1    7161\n",
       "0    3425\n",
       "Name: workingday, dtype: int64"
      ]
     },
     "execution_count": 50,
     "metadata": {},
     "output_type": "execute_result"
    }
   ],
   "source": [
    "bike_data['workingday'].value_counts()"
   ]
  },
  {
   "cell_type": "markdown",
   "id": "9fc40438",
   "metadata": {},
   "source": [
    "**to keep the power of the test it is imp to keep the sample sizes equal**"
   ]
  },
  {
   "cell_type": "code",
   "execution_count": 51,
   "id": "dfd9cafb",
   "metadata": {
    "execution": {
     "iopub.execute_input": "2022-04-20T13:41:28.343769Z",
     "iopub.status.busy": "2022-04-20T13:41:28.343463Z",
     "iopub.status.idle": "2022-04-20T13:41:28.353392Z",
     "shell.execute_reply": "2022-04-20T13:41:28.352665Z"
    },
    "papermill": {
     "duration": 0.198245,
     "end_time": "2022-04-20T13:41:28.355251",
     "exception": false,
     "start_time": "2022-04-20T13:41:28.157006",
     "status": "completed"
    },
    "tags": []
   },
   "outputs": [],
   "source": [
    "\n",
    "working_data = bike_data[bike_data['workingday'] == 1].sample(2500, replace = True)\n",
    "non_working_data = bike_data[bike_data['workingday'] == 0].sample(2500, replace = True)"
   ]
  },
  {
   "cell_type": "markdown",
   "id": "14622a0e",
   "metadata": {
    "papermill": {
     "duration": 0.185158,
     "end_time": "2022-04-20T13:41:28.723835",
     "exception": false,
     "start_time": "2022-04-20T13:41:28.538677",
     "status": "completed"
    },
    "tags": []
   },
   "source": [
    "\n",
    "**Checking assumptions of the test (Normality, Equal Variance)**\n",
    "- Using visualization methods - Histogram, Q-Q plot\n",
    "- Using statistical methods like levene’s test, Shapiro-wilk test"
   ]
  },
  {
   "cell_type": "code",
   "execution_count": 66,
   "id": "cffa0e61",
   "metadata": {
    "execution": {
     "iopub.execute_input": "2022-04-20T13:41:29.097120Z",
     "iopub.status.busy": "2022-04-20T13:41:29.096783Z",
     "iopub.status.idle": "2022-04-20T13:41:29.105130Z",
     "shell.execute_reply": "2022-04-20T13:41:29.104494Z"
    },
    "papermill": {
     "duration": 0.198436,
     "end_time": "2022-04-20T13:41:29.106996",
     "exception": false,
     "start_time": "2022-04-20T13:41:28.908560",
     "status": "completed"
    },
    "tags": []
   },
   "outputs": [
    {
     "data": {
      "text/plain": [
       "(22500.28, 26906.89)"
      ]
     },
     "execution_count": 66,
     "metadata": {},
     "output_type": "execute_result"
    }
   ],
   "source": [
    "round(working_data['count'].std()**2,2), round(non_working_data['count'].std()**2 ,2)"
   ]
  },
  {
   "cell_type": "markdown",
   "id": "98ccf86b",
   "metadata": {
    "papermill": {
     "duration": 0.184469,
     "end_time": "2022-04-20T13:41:29.475796",
     "exception": false,
     "start_time": "2022-04-20T13:41:29.291327",
     "status": "completed"
    },
    "tags": []
   },
   "source": [
    "**Observations**: The variance is not equal for both the samples."
   ]
  },
  {
   "cell_type": "code",
   "execution_count": 62,
   "id": "40449161",
   "metadata": {
    "execution": {
     "iopub.execute_input": "2022-04-20T13:41:29.850474Z",
     "iopub.status.busy": "2022-04-20T13:41:29.849949Z",
     "iopub.status.idle": "2022-04-20T13:41:30.806704Z",
     "shell.execute_reply": "2022-04-20T13:41:30.806027Z"
    },
    "papermill": {
     "duration": 1.148142,
     "end_time": "2022-04-20T13:41:30.809134",
     "exception": false,
     "start_time": "2022-04-20T13:41:29.660992",
     "status": "completed"
    },
    "tags": []
   },
   "outputs": [
    {
     "data": {
      "image/png": "[encoded data removed]",
      "text/plain": [
       "<Figure size 1080x864 with 4 Axes>"
      ]
     },
     "metadata": {
      "needs_background": "light"
     },
     "output_type": "display_data"
    }
   ],
   "source": [
    "#Checking the normality\n",
    "fig = plt.figure(figsize = (15,12))\n",
    "\n",
    "ax1 = fig.add_subplot(221)\n",
    "sns.histplot(data = working_data, x = 'count' , bins = 50, kde = True, ax = ax1, color = 'red')\n",
    "ax1.set_title('#bikes rented in working days')\n",
    "\n",
    "ax2 = fig.add_subplot(222)\n",
    "sm.qqplot(working_data['count'], line = 's', ax = ax2)\n",
    "ax2.set_title('qqplot for count in working days')\n",
    "\n",
    "ax3 = fig.add_subplot(223)\n",
    "sns.histplot(data = non_working_data, x = 'count' , bins = 50, kde = True, ax = ax3, color = 'red')\n",
    "ax3.set_title('count of bike rented in non-working days')\n",
    "\n",
    "ax4 = fig.add_subplot(224)\n",
    "sm.qqplot(non_working_data['count'], line = 's', ax = ax4)\n",
    "ax4.set_title('qqplot for count in non-working days')\n",
    "\n",
    "plt.show()"
   ]
  },
  {
   "cell_type": "code",
   "execution_count": 63,
   "id": "18b57bcb",
   "metadata": {
    "execution": {
     "iopub.execute_input": "2022-04-20T13:41:31.193230Z",
     "iopub.status.busy": "2022-04-20T13:41:31.192666Z",
     "iopub.status.idle": "2022-04-20T13:41:31.201314Z",
     "shell.execute_reply": "2022-04-20T13:41:31.200712Z"
    },
    "papermill": {
     "duration": 0.201389,
     "end_time": "2022-04-20T13:41:31.203359",
     "exception": false,
     "start_time": "2022-04-20T13:41:31.001970",
     "status": "completed"
    },
    "tags": []
   },
   "outputs": [
    {
     "data": {
      "text/plain": [
       "(-1.9721315903459762, 0.975674963162703)"
      ]
     },
     "execution_count": 63,
     "metadata": {},
     "output_type": "execute_result"
    }
   ],
   "source": [
    "# Calculating the p-value and test- statistics usinging ttest_ind() for this right skwed distribution sample.\n",
    "# Alternative == greater as it's right skewed and one-sided\n",
    "t_test, p_value = stats.ttest_ind(working_data['count'],non_working_data['count'],\n",
    "                                  alternative='greater', equal_var = False)\n",
    "t_test, p_value"
   ]
  },
  {
   "cell_type": "markdown",
   "id": "aa4d1893",
   "metadata": {
    "papermill": {
     "duration": 0.187136,
     "end_time": "2022-04-20T13:41:31.579103",
     "exception": false,
     "start_time": "2022-04-20T13:41:31.391967",
     "status": "completed"
    },
    "tags": []
   },
   "source": [
    "**Observations**: \n",
    "- The distribution of the population samples is right-skwed and it's not normal which violates is our assumption for conducting 2 sample t test. Also the varaince of the samples is unequal.Hence we will do log-transformation\n",
    "- We got a p-value of 0.99 which is greater than 0.05 and hence we can say that we fail to reject null hypothesis. We will confirm after log - transformation as well"
   ]
  },
  {
   "cell_type": "markdown",
   "id": "efb7d50b",
   "metadata": {
    "papermill": {
     "duration": 0.198476,
     "end_time": "2022-04-20T13:41:31.966255",
     "exception": false,
     "start_time": "2022-04-20T13:41:31.767779",
     "status": "completed"
    },
    "tags": []
   },
   "source": [
    "**Applying log on the data - Log Normal Distribution**"
   ]
  },
  {
   "cell_type": "code",
   "execution_count": 64,
   "id": "229a6c85",
   "metadata": {
    "execution": {
     "iopub.execute_input": "2022-04-20T13:41:32.354076Z",
     "iopub.status.busy": "2022-04-20T13:41:32.353534Z",
     "iopub.status.idle": "2022-04-20T13:41:33.145735Z",
     "shell.execute_reply": "2022-04-20T13:41:33.144815Z"
    },
    "papermill": {
     "duration": 0.986441,
     "end_time": "2022-04-20T13:41:33.147862",
     "exception": false,
     "start_time": "2022-04-20T13:41:32.161421",
     "status": "completed"
    },
    "tags": []
   },
   "outputs": [
    {
     "data": {
      "image/png": "[encoded data removed]",
      "text/plain": [
       "<Figure size 1080x864 with 4 Axes>"
      ]
     },
     "metadata": {
      "needs_background": "light"
     },
     "output_type": "display_data"
    }
   ],
   "source": [
    "fig = plt.figure(figsize = (15,12))\n",
    "\n",
    "ax1 = fig.add_subplot(221)\n",
    "sns.histplot(data = np.log(working_data['count']) , bins = 50, kde = True, ax = ax1, color = 'green')\n",
    "ax1.set_title('cnt of bikes rented in working days')\n",
    "\n",
    "ax2 = fig.add_subplot(222)\n",
    "sm.qqplot(np.log(working_data['count']), line = 's', ax = ax2)\n",
    "ax2.set_title('qqplot for cnt in working days')\n",
    "\n",
    "ax3 = fig.add_subplot(223)\n",
    "sns.histplot(data = np.log(non_working_data['count']) , bins = 50, kde = True, ax = ax3, color  = 'green')\n",
    "ax3.set_title('cnt of bike rented in non-working days')\n",
    "\n",
    "ax4 = fig.add_subplot(224)\n",
    "sm.qqplot(np.log(non_working_data['count']), line = 's', ax = ax4)\n",
    "ax4.set_title('qqplot for cnt in non working days')\n",
    "\n",
    "plt.show()"
   ]
  },
  {
   "cell_type": "code",
   "execution_count": 67,
   "id": "1ef9f610",
   "metadata": {
    "execution": {
     "iopub.execute_input": "2022-04-20T13:41:33.534756Z",
     "iopub.status.busy": "2022-04-20T13:41:33.534429Z",
     "iopub.status.idle": "2022-04-20T13:41:33.542797Z",
     "shell.execute_reply": "2022-04-20T13:41:33.542198Z"
    },
    "papermill": {
     "duration": 0.20154,
     "end_time": "2022-04-20T13:41:33.544714",
     "exception": false,
     "start_time": "2022-04-20T13:41:33.343174",
     "status": "completed"
    },
    "tags": []
   },
   "outputs": [
    {
     "data": {
      "text/plain": [
       "(2.27, 1.89)"
      ]
     },
     "execution_count": 67,
     "metadata": {},
     "output_type": "execute_result"
    }
   ],
   "source": [
    "round(np.log(working_data['count']).std()**2,2), round(np.log(non_working_data['count']).std()**2 ,2)"
   ]
  },
  {
   "cell_type": "markdown",
   "id": "7583c86d",
   "metadata": {
    "papermill": {
     "duration": 0.207594,
     "end_time": "2022-04-20T13:41:33.943229",
     "exception": false,
     "start_time": "2022-04-20T13:41:33.735635",
     "status": "completed"
    },
    "tags": []
   },
   "source": [
    "**Observations**: After taking log on the sample population:\n",
    "- we dont really get a near normal distribution with variance somewhat different from each other. Still we can calculate the p-value and test-statistics, as asked in the question pallette!"
   ]
  },
  {
   "cell_type": "code",
   "execution_count": 72,
   "id": "b9704861",
   "metadata": {
    "execution": {
     "iopub.execute_input": "2022-04-20T13:41:34.326112Z",
     "iopub.status.busy": "2022-04-20T13:41:34.325580Z",
     "iopub.status.idle": "2022-04-20T13:41:34.331141Z",
     "shell.execute_reply": "2022-04-20T13:41:34.330545Z"
    },
    "papermill": {
     "duration": 0.198576,
     "end_time": "2022-04-20T13:41:34.333317",
     "exception": false,
     "start_time": "2022-04-20T13:41:34.134741",
     "status": "completed"
    },
    "tags": []
   },
   "outputs": [],
   "source": [
    "sample_w_log = np.log(working_data['count']).sample(2500)\n",
    "sample_nw_log = np.log(non_working_data['count']).sample(2500)\n",
    "\n",
    "statistic,p_value = stats.ttest_ind(sample_w_log,sample_nw_log , alternative = 'greater')\n",
    "statistic,p_value\n",
    "\n",
    "def htResult(p_value):\n",
    "    significance_level = 0.05\n",
    "    if p_value <= significance_level: \n",
    "        print('Reject NULL HYPOTHESIS') \n",
    "    else: \n",
    "        print('Fail to Reject NULL HYPOTHESIS') "
   ]
  },
  {
   "cell_type": "code",
   "execution_count": 77,
   "id": "96f16d52",
   "metadata": {
    "execution": {
     "iopub.execute_input": "2022-04-20T13:41:35.510412Z",
     "iopub.status.busy": "2022-04-20T13:41:35.509843Z",
     "iopub.status.idle": "2022-04-20T13:41:35.514726Z",
     "shell.execute_reply": "2022-04-20T13:41:35.513801Z"
    },
    "papermill": {
     "duration": 0.199534,
     "end_time": "2022-04-20T13:41:35.516759",
     "exception": false,
     "start_time": "2022-04-20T13:41:35.317225",
     "status": "completed"
    },
    "tags": []
   },
   "outputs": [
    {
     "name": "stdout",
     "output_type": "stream",
     "text": [
      "Fail to Reject NULL HYPOTHESIS\n"
     ]
    }
   ],
   "source": [
    "htResult(p_value)"
   ]
  },
  {
   "cell_type": "code",
   "execution_count": 75,
   "id": "60ac709c",
   "metadata": {
    "execution": {
     "iopub.execute_input": "2022-04-20T13:41:35.903664Z",
     "iopub.status.busy": "2022-04-20T13:41:35.903085Z",
     "iopub.status.idle": "2022-04-20T13:41:35.910013Z",
     "shell.execute_reply": "2022-04-20T13:41:35.909413Z"
    },
    "papermill": {
     "duration": 0.20231,
     "end_time": "2022-04-20T13:41:35.911838",
     "exception": false,
     "start_time": "2022-04-20T13:41:35.709528",
     "status": "completed"
    },
    "tags": []
   },
   "outputs": [
    {
     "data": {
      "text/plain": [
       "LeveneResult(statistic=1.8965794313551154, pvalue=0.16852336289968312)"
      ]
     },
     "execution_count": 75,
     "metadata": {},
     "output_type": "execute_result"
    }
   ],
   "source": [
    "stats.levene(sample_w_log, sample_nw_log, center='median')"
   ]
  },
  {
   "cell_type": "markdown",
   "id": "fcbef1fc",
   "metadata": {
    "papermill": {
     "duration": 0.196152,
     "end_time": "2022-04-20T13:41:36.934848",
     "exception": false,
     "start_time": "2022-04-20T13:41:36.738696",
     "status": "completed"
    },
    "tags": []
   },
   "source": [
    "**Conclusion : As the p value > alpha(0.05) , we fail to reject H0 and thus we can say that the cnt of renting of  bikes in both working and non-working days is equal. And we can confirm this using the boxplot as well**"
   ]
  },
  {
   "cell_type": "markdown",
   "id": "66f3a461",
   "metadata": {
    "papermill": {
     "duration": 0.193484,
     "end_time": "2022-04-20T13:41:37.322165",
     "exception": false,
     "start_time": "2022-04-20T13:41:37.128681",
     "status": "completed"
    },
    "tags": []
   },
   "source": [
    "# Chi-square test to check if weather is dependent on the season "
   ]
  },
  {
   "cell_type": "markdown",
   "id": "86cc4764",
   "metadata": {
    "papermill": {
     "duration": 0.193338,
     "end_time": "2022-04-20T13:41:37.708917",
     "exception": false,
     "start_time": "2022-04-20T13:41:37.515579",
     "status": "completed"
    },
    "tags": []
   },
   "source": [
    "Assumptions:\n",
    "- Assumption 1: Both variables are categorical.\n",
    "- Assumption 2: All observations are independent.\n",
    "- Assumption 3: Cells in the contingency table are mutually exclusive.\n",
    "- Assumption 4: Expected value of cells should be 5 or greater in at least 80% of cells.\n",
    "    - It’s assumed that the expected value of cells in the contingency table should be 5 or greater in at least 80% of cells and that no cell should have an expected value less than 1."
   ]
  },
  {
   "cell_type": "markdown",
   "id": "a56918bf",
   "metadata": {
    "papermill": {
     "duration": 0.194807,
     "end_time": "2022-04-20T13:41:38.100736",
     "exception": false,
     "start_time": "2022-04-20T13:41:37.905929",
     "status": "completed"
    },
    "tags": []
   },
   "source": [
    "**H0 : Both weather_code and seasons are independent of each other**\n",
    "\n",
    "**Ha : There is dependency of weather_code on Seasons**\n",
    "\n",
    "aplha = 0.05"
   ]
  },
  {
   "cell_type": "code",
   "execution_count": 78,
   "id": "6103e128",
   "metadata": {
    "execution": {
     "iopub.execute_input": "2022-04-20T13:41:38.550738Z",
     "iopub.status.busy": "2022-04-20T13:41:38.550402Z",
     "iopub.status.idle": "2022-04-20T13:41:38.599706Z",
     "shell.execute_reply": "2022-04-20T13:41:38.599080Z"
    },
    "papermill": {
     "duration": 0.291299,
     "end_time": "2022-04-20T13:41:38.603261",
     "exception": false,
     "start_time": "2022-04-20T13:41:38.311962",
     "status": "completed"
    },
    "tags": []
   },
   "outputs": [
    {
     "data": {
      "text/html": [
       "<div>\n",
       "<style scoped>\n",
       "    .dataframe tbody tr th:only-of-type {\n",
       "        vertical-align: middle;\n",
       "    }\n",
       "\n",
       "    .dataframe tbody tr th {\n",
       "        vertical-align: top;\n",
       "    }\n",
       "\n",
       "    .dataframe thead th {\n",
       "        text-align: right;\n",
       "    }\n",
       "</style>\n",
       "<table border=\"1\" class=\"dataframe\">\n",
       "  <thead>\n",
       "    <tr style=\"text-align: right;\">\n",
       "      <th>season</th>\n",
       "      <th>1</th>\n",
       "      <th>2</th>\n",
       "      <th>3</th>\n",
       "      <th>4</th>\n",
       "      <th>Total</th>\n",
       "    </tr>\n",
       "    <tr>\n",
       "      <th>weather</th>\n",
       "      <th></th>\n",
       "      <th></th>\n",
       "      <th></th>\n",
       "      <th></th>\n",
       "      <th></th>\n",
       "    </tr>\n",
       "  </thead>\n",
       "  <tbody>\n",
       "    <tr>\n",
       "      <th>1</th>\n",
       "      <td>1744</td>\n",
       "      <td>1721</td>\n",
       "      <td>1843</td>\n",
       "      <td>1657</td>\n",
       "      <td>6965</td>\n",
       "    </tr>\n",
       "    <tr>\n",
       "      <th>2</th>\n",
       "      <td>714</td>\n",
       "      <td>690</td>\n",
       "      <td>579</td>\n",
       "      <td>787</td>\n",
       "      <td>2770</td>\n",
       "    </tr>\n",
       "    <tr>\n",
       "      <th>3</th>\n",
       "      <td>211</td>\n",
       "      <td>223</td>\n",
       "      <td>195</td>\n",
       "      <td>221</td>\n",
       "      <td>850</td>\n",
       "    </tr>\n",
       "    <tr>\n",
       "      <th>4</th>\n",
       "      <td>1</td>\n",
       "      <td>0</td>\n",
       "      <td>0</td>\n",
       "      <td>0</td>\n",
       "      <td>1</td>\n",
       "    </tr>\n",
       "    <tr>\n",
       "      <th>Total</th>\n",
       "      <td>2670</td>\n",
       "      <td>2634</td>\n",
       "      <td>2617</td>\n",
       "      <td>2665</td>\n",
       "      <td>10586</td>\n",
       "    </tr>\n",
       "  </tbody>\n",
       "</table>\n",
       "</div>"
      ],
      "text/plain": [
       "season      1     2     3     4  Total\n",
       "weather                               \n",
       "1        1744  1721  1843  1657   6965\n",
       "2         714   690   579   787   2770\n",
       "3         211   223   195   221    850\n",
       "4           1     0     0     0      1\n",
       "Total    2670  2634  2617  2665  10586"
      ]
     },
     "execution_count": 78,
     "metadata": {},
     "output_type": "execute_result"
    }
   ],
   "source": [
    "contigency_table = pd.crosstab(bike_data.weather,bike_data.season,margins=True,margins_name='Total')\n",
    "contigency_table"
   ]
  },
  {
   "cell_type": "code",
   "execution_count": 80,
   "id": "30146bf0",
   "metadata": {
    "execution": {
     "iopub.execute_input": "2022-04-20T13:41:39.018499Z",
     "iopub.status.busy": "2022-04-20T13:41:39.018200Z",
     "iopub.status.idle": "2022-04-20T13:41:39.030155Z",
     "shell.execute_reply": "2022-04-20T13:41:39.029355Z"
    },
    "papermill": {
     "duration": 0.215513,
     "end_time": "2022-04-20T13:41:39.032236",
     "exception": false,
     "start_time": "2022-04-20T13:41:38.816723",
     "status": "completed"
    },
    "tags": []
   },
   "outputs": [
    {
     "data": {
      "text/html": [
       "<div>\n",
       "<style scoped>\n",
       "    .dataframe tbody tr th:only-of-type {\n",
       "        vertical-align: middle;\n",
       "    }\n",
       "\n",
       "    .dataframe tbody tr th {\n",
       "        vertical-align: top;\n",
       "    }\n",
       "\n",
       "    .dataframe thead th {\n",
       "        text-align: right;\n",
       "    }\n",
       "</style>\n",
       "<table border=\"1\" class=\"dataframe\">\n",
       "  <thead>\n",
       "    <tr style=\"text-align: right;\">\n",
       "      <th>season</th>\n",
       "      <th>1</th>\n",
       "      <th>2</th>\n",
       "      <th>3</th>\n",
       "      <th>4</th>\n",
       "      <th>Row_total</th>\n",
       "    </tr>\n",
       "    <tr>\n",
       "      <th>weather</th>\n",
       "      <th></th>\n",
       "      <th></th>\n",
       "      <th></th>\n",
       "      <th></th>\n",
       "      <th></th>\n",
       "    </tr>\n",
       "  </thead>\n",
       "  <tbody>\n",
       "    <tr>\n",
       "      <th>1</th>\n",
       "      <td>1744</td>\n",
       "      <td>1721</td>\n",
       "      <td>1843</td>\n",
       "      <td>1657</td>\n",
       "      <td>6965</td>\n",
       "    </tr>\n",
       "    <tr>\n",
       "      <th>2</th>\n",
       "      <td>714</td>\n",
       "      <td>690</td>\n",
       "      <td>579</td>\n",
       "      <td>787</td>\n",
       "      <td>2770</td>\n",
       "    </tr>\n",
       "    <tr>\n",
       "      <th>3</th>\n",
       "      <td>211</td>\n",
       "      <td>223</td>\n",
       "      <td>195</td>\n",
       "      <td>221</td>\n",
       "      <td>850</td>\n",
       "    </tr>\n",
       "    <tr>\n",
       "      <th>4</th>\n",
       "      <td>1</td>\n",
       "      <td>0</td>\n",
       "      <td>0</td>\n",
       "      <td>0</td>\n",
       "      <td>1</td>\n",
       "    </tr>\n",
       "    <tr>\n",
       "      <th>Total</th>\n",
       "      <td>2670</td>\n",
       "      <td>2634</td>\n",
       "      <td>2617</td>\n",
       "      <td>2665</td>\n",
       "      <td>10586</td>\n",
       "    </tr>\n",
       "  </tbody>\n",
       "</table>\n",
       "</div>"
      ],
      "text/plain": [
       "season      1     2     3     4  Row_total\n",
       "weather                                   \n",
       "1        1744  1721  1843  1657       6965\n",
       "2         714   690   579   787       2770\n",
       "3         211   223   195   221        850\n",
       "4           1     0     0     0          1\n",
       "Total    2670  2634  2617  2665      10586"
      ]
     },
     "execution_count": 80,
     "metadata": {},
     "output_type": "execute_result"
    }
   ],
   "source": [
    "contigency_table = contigency_table.rename(columns = {'Total':'Row_total'})\n",
    "contigency_table"
   ]
  },
  {
   "cell_type": "markdown",
   "id": "31ac56cc",
   "metadata": {
    "papermill": {
     "duration": 0.201808,
     "end_time": "2022-04-20T13:41:39.437694",
     "exception": false,
     "start_time": "2022-04-20T13:41:39.235886",
     "status": "completed"
    },
    "tags": []
   },
   "source": [
    "A Chi-Square Test of Independence\n",
    "- As we doing independence test for 2 categorical vaiarbles we are using Chi-squared test."
   ]
  },
  {
   "cell_type": "markdown",
   "id": "94e2a76b",
   "metadata": {
    "papermill": {
     "duration": 0.193225,
     "end_time": "2022-04-20T13:41:39.826410",
     "exception": false,
     "start_time": "2022-04-20T13:41:39.633185",
     "status": "completed"
    },
    "tags": []
   },
   "source": [
    "- Expected value of cells should be 5 or greater in at least 80% of cells & that no cell should have an expected value less than 1.\n",
    "- We can use the following formula to calculate the expected values for each cell in the contingency table:\n",
    "- Expected value = (row sum * column sum) / table sum."
   ]
  },
  {
   "cell_type": "code",
   "execution_count": 81,
   "id": "b772f00b",
   "metadata": {
    "execution": {
     "iopub.execute_input": "2022-04-20T13:41:40.216139Z",
     "iopub.status.busy": "2022-04-20T13:41:40.215870Z",
     "iopub.status.idle": "2022-04-20T13:41:40.231177Z",
     "shell.execute_reply": "2022-04-20T13:41:40.230556Z"
    },
    "papermill": {
     "duration": 0.211655,
     "end_time": "2022-04-20T13:41:40.232972",
     "exception": false,
     "start_time": "2022-04-20T13:41:40.021317",
     "status": "completed"
    },
    "tags": []
   },
   "outputs": [
    {
     "data": {
      "text/html": [
       "<div>\n",
       "<style scoped>\n",
       "    .dataframe tbody tr th:only-of-type {\n",
       "        vertical-align: middle;\n",
       "    }\n",
       "\n",
       "    .dataframe tbody tr th {\n",
       "        vertical-align: top;\n",
       "    }\n",
       "\n",
       "    .dataframe thead th {\n",
       "        text-align: right;\n",
       "    }\n",
       "</style>\n",
       "<table border=\"1\" class=\"dataframe\">\n",
       "  <thead>\n",
       "    <tr style=\"text-align: right;\">\n",
       "      <th>season</th>\n",
       "      <th>1</th>\n",
       "      <th>2</th>\n",
       "      <th>3</th>\n",
       "      <th>4</th>\n",
       "    </tr>\n",
       "    <tr>\n",
       "      <th>weather</th>\n",
       "      <th></th>\n",
       "      <th></th>\n",
       "      <th></th>\n",
       "      <th></th>\n",
       "    </tr>\n",
       "  </thead>\n",
       "  <tbody>\n",
       "    <tr>\n",
       "      <th>1</th>\n",
       "      <td>1756</td>\n",
       "      <td>1733</td>\n",
       "      <td>1721</td>\n",
       "      <td>1753</td>\n",
       "    </tr>\n",
       "    <tr>\n",
       "      <th>2</th>\n",
       "      <td>698</td>\n",
       "      <td>689</td>\n",
       "      <td>684</td>\n",
       "      <td>697</td>\n",
       "    </tr>\n",
       "    <tr>\n",
       "      <th>3</th>\n",
       "      <td>214</td>\n",
       "      <td>211</td>\n",
       "      <td>210</td>\n",
       "      <td>213</td>\n",
       "    </tr>\n",
       "    <tr>\n",
       "      <th>4</th>\n",
       "      <td>0</td>\n",
       "      <td>0</td>\n",
       "      <td>0</td>\n",
       "      <td>0</td>\n",
       "    </tr>\n",
       "    <tr>\n",
       "      <th>Total</th>\n",
       "      <td>2670</td>\n",
       "      <td>2634</td>\n",
       "      <td>2617</td>\n",
       "      <td>2665</td>\n",
       "    </tr>\n",
       "  </tbody>\n",
       "</table>\n",
       "</div>"
      ],
      "text/plain": [
       "season      1     2     3     4\n",
       "weather                        \n",
       "1        1756  1733  1721  1753\n",
       "2         698   689   684   697\n",
       "3         214   211   210   213\n",
       "4           0     0     0     0\n",
       "Total    2670  2634  2617  2665"
      ]
     },
     "execution_count": 81,
     "metadata": {},
     "output_type": "execute_result"
    }
   ],
   "source": [
    "n = contigency_table.at[\"Total\", \"Row_total\"]\n",
    "exp=contigency_table.copy()\n",
    "for x in exp.index[0:-1]:\n",
    "    for y in exp.columns[0:-1]:\n",
    "        v= (((contigency_table.at[x, \"Row_total\"]) * (contigency_table.at[\"Total\", y]))/n ).round(2)\n",
    "        exp.at[x,y]=float(v)\n",
    "\n",
    "exp = exp.iloc[[0, 1, 2, 3, 4 ], [0, 1, 2, 3]]\n",
    "exp"
   ]
  },
  {
   "cell_type": "markdown",
   "id": "c6bd759b",
   "metadata": {
    "papermill": {
     "duration": 0.19641,
     "end_time": "2022-04-20T13:41:40.622299",
     "exception": false,
     "start_time": "2022-04-20T13:41:40.425889",
     "status": "completed"
    },
    "tags": []
   },
   "source": [
    "#### Weather 4 has expeted counts less than 5, so we will drop it."
   ]
  },
  {
   "cell_type": "code",
   "execution_count": 86,
   "id": "6dde8c5a",
   "metadata": {
    "execution": {
     "iopub.execute_input": "2022-04-20T13:41:41.016052Z",
     "iopub.status.busy": "2022-04-20T13:41:41.015116Z",
     "iopub.status.idle": "2022-04-20T13:41:41.022524Z",
     "shell.execute_reply": "2022-04-20T13:41:41.021903Z"
    },
    "papermill": {
     "duration": 0.205401,
     "end_time": "2022-04-20T13:41:41.024256",
     "exception": false,
     "start_time": "2022-04-20T13:41:40.818855",
     "status": "completed"
    },
    "tags": []
   },
   "outputs": [
    {
     "data": {
      "text/plain": [
       "1    6965\n",
       "2    2770\n",
       "3     850\n",
       "Name: weather, dtype: int64"
      ]
     },
     "execution_count": 86,
     "metadata": {},
     "output_type": "execute_result"
    }
   ],
   "source": [
    "bike_data['weather'].value_counts()"
   ]
  },
  {
   "cell_type": "code",
   "execution_count": 83,
   "id": "ddda9ee9",
   "metadata": {
    "execution": {
     "iopub.execute_input": "2022-04-20T13:41:41.411862Z",
     "iopub.status.busy": "2022-04-20T13:41:41.411549Z",
     "iopub.status.idle": "2022-04-20T13:41:41.419262Z",
     "shell.execute_reply": "2022-04-20T13:41:41.418188Z"
    },
    "papermill": {
     "duration": 0.20412,
     "end_time": "2022-04-20T13:41:41.421173",
     "exception": false,
     "start_time": "2022-04-20T13:41:41.217053",
     "status": "completed"
    },
    "tags": []
   },
   "outputs": [
    {
     "data": {
      "text/plain": [
       "1    2670\n",
       "4    2665\n",
       "2    2634\n",
       "3    2617\n",
       "Name: season, dtype: int64"
      ]
     },
     "execution_count": 83,
     "metadata": {},
     "output_type": "execute_result"
    }
   ],
   "source": [
    "bike_data['season'].value_counts()"
   ]
  },
  {
   "cell_type": "code",
   "execution_count": 87,
   "id": "df22bf56",
   "metadata": {
    "execution": {
     "iopub.execute_input": "2022-04-20T13:41:41.812884Z",
     "iopub.status.busy": "2022-04-20T13:41:41.812241Z",
     "iopub.status.idle": "2022-04-20T13:41:41.821528Z",
     "shell.execute_reply": "2022-04-20T13:41:41.820899Z"
    },
    "papermill": {
     "duration": 0.209138,
     "end_time": "2022-04-20T13:41:41.823280",
     "exception": false,
     "start_time": "2022-04-20T13:41:41.614142",
     "status": "completed"
    },
    "tags": []
   },
   "outputs": [
    {
     "data": {
      "text/plain": [
       "1    6965\n",
       "2    2770\n",
       "3     850\n",
       "Name: weather, dtype: int64"
      ]
     },
     "execution_count": 87,
     "metadata": {},
     "output_type": "execute_result"
    }
   ],
   "source": [
    "bike_data=bike_data[~(bike_data['weather']==4)]\n",
    "bike_data['weather'].value_counts()"
   ]
  },
  {
   "cell_type": "code",
   "execution_count": 88,
   "id": "02b02f82",
   "metadata": {
    "execution": {
     "iopub.execute_input": "2022-04-20T13:41:42.217161Z",
     "iopub.status.busy": "2022-04-20T13:41:42.216868Z",
     "iopub.status.idle": "2022-04-20T13:41:42.260641Z",
     "shell.execute_reply": "2022-04-20T13:41:42.260003Z"
    },
    "papermill": {
     "duration": 0.243224,
     "end_time": "2022-04-20T13:41:42.262441",
     "exception": false,
     "start_time": "2022-04-20T13:41:42.019217",
     "status": "completed"
    },
    "tags": []
   },
   "outputs": [
    {
     "data": {
      "text/html": [
       "<div>\n",
       "<style scoped>\n",
       "    .dataframe tbody tr th:only-of-type {\n",
       "        vertical-align: middle;\n",
       "    }\n",
       "\n",
       "    .dataframe tbody tr th {\n",
       "        vertical-align: top;\n",
       "    }\n",
       "\n",
       "    .dataframe thead th {\n",
       "        text-align: right;\n",
       "    }\n",
       "</style>\n",
       "<table border=\"1\" class=\"dataframe\">\n",
       "  <thead>\n",
       "    <tr style=\"text-align: right;\">\n",
       "      <th>season</th>\n",
       "      <th>1</th>\n",
       "      <th>2</th>\n",
       "      <th>3</th>\n",
       "      <th>4</th>\n",
       "      <th>Total</th>\n",
       "    </tr>\n",
       "    <tr>\n",
       "      <th>weather</th>\n",
       "      <th></th>\n",
       "      <th></th>\n",
       "      <th></th>\n",
       "      <th></th>\n",
       "      <th></th>\n",
       "    </tr>\n",
       "  </thead>\n",
       "  <tbody>\n",
       "    <tr>\n",
       "      <th>1</th>\n",
       "      <td>1744</td>\n",
       "      <td>1721</td>\n",
       "      <td>1843</td>\n",
       "      <td>1657</td>\n",
       "      <td>6965</td>\n",
       "    </tr>\n",
       "    <tr>\n",
       "      <th>2</th>\n",
       "      <td>714</td>\n",
       "      <td>690</td>\n",
       "      <td>579</td>\n",
       "      <td>787</td>\n",
       "      <td>2770</td>\n",
       "    </tr>\n",
       "    <tr>\n",
       "      <th>3</th>\n",
       "      <td>211</td>\n",
       "      <td>223</td>\n",
       "      <td>195</td>\n",
       "      <td>221</td>\n",
       "      <td>850</td>\n",
       "    </tr>\n",
       "    <tr>\n",
       "      <th>Total</th>\n",
       "      <td>2669</td>\n",
       "      <td>2634</td>\n",
       "      <td>2617</td>\n",
       "      <td>2665</td>\n",
       "      <td>10585</td>\n",
       "    </tr>\n",
       "  </tbody>\n",
       "</table>\n",
       "</div>"
      ],
      "text/plain": [
       "season      1     2     3     4  Total\n",
       "weather                               \n",
       "1        1744  1721  1843  1657   6965\n",
       "2         714   690   579   787   2770\n",
       "3         211   223   195   221    850\n",
       "Total    2669  2634  2617  2665  10585"
      ]
     },
     "execution_count": 88,
     "metadata": {},
     "output_type": "execute_result"
    }
   ],
   "source": [
    "contigency_table = pd.crosstab(bike_data.weather,bike_data.season,margins=True,margins_name='Total')\n",
    "contigency_table"
   ]
  },
  {
   "cell_type": "code",
   "execution_count": 90,
   "id": "3c211c08",
   "metadata": {
    "execution": {
     "iopub.execute_input": "2022-04-20T13:41:43.899091Z",
     "iopub.status.busy": "2022-04-20T13:41:43.898765Z",
     "iopub.status.idle": "2022-04-20T13:41:43.909125Z",
     "shell.execute_reply": "2022-04-20T13:41:43.908513Z"
    },
    "papermill": {
     "duration": 0.213418,
     "end_time": "2022-04-20T13:41:43.911404",
     "exception": false,
     "start_time": "2022-04-20T13:41:43.697986",
     "status": "completed"
    },
    "tags": []
   },
   "outputs": [
    {
     "data": {
      "text/html": [
       "<div>\n",
       "<style scoped>\n",
       "    .dataframe tbody tr th:only-of-type {\n",
       "        vertical-align: middle;\n",
       "    }\n",
       "\n",
       "    .dataframe tbody tr th {\n",
       "        vertical-align: top;\n",
       "    }\n",
       "\n",
       "    .dataframe thead th {\n",
       "        text-align: right;\n",
       "    }\n",
       "</style>\n",
       "<table border=\"1\" class=\"dataframe\">\n",
       "  <thead>\n",
       "    <tr style=\"text-align: right;\">\n",
       "      <th>season</th>\n",
       "      <th>1</th>\n",
       "      <th>2</th>\n",
       "      <th>3</th>\n",
       "      <th>4</th>\n",
       "      <th>Row_total</th>\n",
       "    </tr>\n",
       "    <tr>\n",
       "      <th>weather</th>\n",
       "      <th></th>\n",
       "      <th></th>\n",
       "      <th></th>\n",
       "      <th></th>\n",
       "      <th></th>\n",
       "    </tr>\n",
       "  </thead>\n",
       "  <tbody>\n",
       "    <tr>\n",
       "      <th>1</th>\n",
       "      <td>1744</td>\n",
       "      <td>1721</td>\n",
       "      <td>1843</td>\n",
       "      <td>1657</td>\n",
       "      <td>6965</td>\n",
       "    </tr>\n",
       "    <tr>\n",
       "      <th>2</th>\n",
       "      <td>714</td>\n",
       "      <td>690</td>\n",
       "      <td>579</td>\n",
       "      <td>787</td>\n",
       "      <td>2770</td>\n",
       "    </tr>\n",
       "    <tr>\n",
       "      <th>3</th>\n",
       "      <td>211</td>\n",
       "      <td>223</td>\n",
       "      <td>195</td>\n",
       "      <td>221</td>\n",
       "      <td>850</td>\n",
       "    </tr>\n",
       "    <tr>\n",
       "      <th>Total</th>\n",
       "      <td>2669</td>\n",
       "      <td>2634</td>\n",
       "      <td>2617</td>\n",
       "      <td>2665</td>\n",
       "      <td>10585</td>\n",
       "    </tr>\n",
       "  </tbody>\n",
       "</table>\n",
       "</div>"
      ],
      "text/plain": [
       "season      1     2     3     4  Row_total\n",
       "weather                                   \n",
       "1        1744  1721  1843  1657       6965\n",
       "2         714   690   579   787       2770\n",
       "3         211   223   195   221        850\n",
       "Total    2669  2634  2617  2665      10585"
      ]
     },
     "execution_count": 90,
     "metadata": {},
     "output_type": "execute_result"
    }
   ],
   "source": [
    "contigency_table = contigency_table.rename(columns = {'Total':'Row_total'})\n",
    "contigency_table"
   ]
  },
  {
   "cell_type": "code",
   "execution_count": 92,
   "id": "e3213162",
   "metadata": {
    "execution": {
     "iopub.execute_input": "2022-04-20T13:41:44.309077Z",
     "iopub.status.busy": "2022-04-20T13:41:44.308504Z",
     "iopub.status.idle": "2022-04-20T13:41:44.323469Z",
     "shell.execute_reply": "2022-04-20T13:41:44.322575Z"
    },
    "papermill": {
     "duration": 0.21622,
     "end_time": "2022-04-20T13:41:44.325580",
     "exception": false,
     "start_time": "2022-04-20T13:41:44.109360",
     "status": "completed"
    },
    "tags": []
   },
   "outputs": [
    {
     "data": {
      "text/html": [
       "<div>\n",
       "<style scoped>\n",
       "    .dataframe tbody tr th:only-of-type {\n",
       "        vertical-align: middle;\n",
       "    }\n",
       "\n",
       "    .dataframe tbody tr th {\n",
       "        vertical-align: top;\n",
       "    }\n",
       "\n",
       "    .dataframe thead th {\n",
       "        text-align: right;\n",
       "    }\n",
       "</style>\n",
       "<table border=\"1\" class=\"dataframe\">\n",
       "  <thead>\n",
       "    <tr style=\"text-align: right;\">\n",
       "      <th>season</th>\n",
       "      <th>1</th>\n",
       "      <th>2</th>\n",
       "      <th>3</th>\n",
       "      <th>4</th>\n",
       "    </tr>\n",
       "    <tr>\n",
       "      <th>weather</th>\n",
       "      <th></th>\n",
       "      <th></th>\n",
       "      <th></th>\n",
       "      <th></th>\n",
       "    </tr>\n",
       "  </thead>\n",
       "  <tbody>\n",
       "    <tr>\n",
       "      <th>1</th>\n",
       "      <td>1756</td>\n",
       "      <td>1733</td>\n",
       "      <td>1722</td>\n",
       "      <td>1753</td>\n",
       "    </tr>\n",
       "    <tr>\n",
       "      <th>2</th>\n",
       "      <td>698</td>\n",
       "      <td>689</td>\n",
       "      <td>684</td>\n",
       "      <td>697</td>\n",
       "    </tr>\n",
       "    <tr>\n",
       "      <th>3</th>\n",
       "      <td>214</td>\n",
       "      <td>211</td>\n",
       "      <td>210</td>\n",
       "      <td>214</td>\n",
       "    </tr>\n",
       "    <tr>\n",
       "      <th>Total</th>\n",
       "      <td>2669</td>\n",
       "      <td>2634</td>\n",
       "      <td>2617</td>\n",
       "      <td>2665</td>\n",
       "    </tr>\n",
       "  </tbody>\n",
       "</table>\n",
       "</div>"
      ],
      "text/plain": [
       "season      1     2     3     4\n",
       "weather                        \n",
       "1        1756  1733  1722  1753\n",
       "2         698   689   684   697\n",
       "3         214   211   210   214\n",
       "Total    2669  2634  2617  2665"
      ]
     },
     "execution_count": 92,
     "metadata": {},
     "output_type": "execute_result"
    }
   ],
   "source": [
    "n = contigency_table.at[\"Total\", \"Row_total\"]\n",
    "exp=contigency_table.copy()\n",
    "for x in exp.index[0:-1]:\n",
    "    for y in exp.columns[0:-1]:\n",
    "        v= (((contigency_table.at[x, \"Row_total\"]) * (contigency_table.at[\"Total\", y]))/n ).round(2)\n",
    "        exp.at[x,y]=float(v)\n",
    "\n",
    "exp = exp.iloc[[0, 1, 2, 3], [0, 1,2,3]]\n",
    "exp"
   ]
  },
  {
   "cell_type": "markdown",
   "id": "4c3f4132",
   "metadata": {
    "papermill": {
     "duration": 0.198041,
     "end_time": "2022-04-20T13:41:44.723452",
     "exception": false,
     "start_time": "2022-04-20T13:41:44.525411",
     "status": "completed"
    },
    "tags": []
   },
   "source": [
    "#### No Weather  has expeted counts less than 5, so we will continue with Chi Sqaure test"
   ]
  },
  {
   "cell_type": "code",
   "execution_count": 93,
   "id": "39baf323",
   "metadata": {
    "execution": {
     "iopub.execute_input": "2022-04-20T13:41:45.585320Z",
     "iopub.status.busy": "2022-04-20T13:41:45.584825Z",
     "iopub.status.idle": "2022-04-20T13:41:45.609222Z",
     "shell.execute_reply": "2022-04-20T13:41:45.608574Z"
    },
    "papermill": {
     "duration": 0.238552,
     "end_time": "2022-04-20T13:41:45.611084",
     "exception": false,
     "start_time": "2022-04-20T13:41:45.372532",
     "status": "completed"
    },
    "tags": []
   },
   "outputs": [
    {
     "data": {
      "text/html": [
       "<div>\n",
       "<style scoped>\n",
       "    .dataframe tbody tr th:only-of-type {\n",
       "        vertical-align: middle;\n",
       "    }\n",
       "\n",
       "    .dataframe tbody tr th {\n",
       "        vertical-align: top;\n",
       "    }\n",
       "\n",
       "    .dataframe thead th {\n",
       "        text-align: right;\n",
       "    }\n",
       "</style>\n",
       "<table border=\"1\" class=\"dataframe\">\n",
       "  <thead>\n",
       "    <tr style=\"text-align: right;\">\n",
       "      <th>season</th>\n",
       "      <th>1</th>\n",
       "      <th>2</th>\n",
       "      <th>3</th>\n",
       "      <th>4</th>\n",
       "    </tr>\n",
       "    <tr>\n",
       "      <th>weather</th>\n",
       "      <th></th>\n",
       "      <th></th>\n",
       "      <th></th>\n",
       "      <th></th>\n",
       "    </tr>\n",
       "  </thead>\n",
       "  <tbody>\n",
       "    <tr>\n",
       "      <th>1</th>\n",
       "      <td>1744</td>\n",
       "      <td>1721</td>\n",
       "      <td>1843</td>\n",
       "      <td>1657</td>\n",
       "    </tr>\n",
       "    <tr>\n",
       "      <th>2</th>\n",
       "      <td>714</td>\n",
       "      <td>690</td>\n",
       "      <td>579</td>\n",
       "      <td>787</td>\n",
       "    </tr>\n",
       "    <tr>\n",
       "      <th>3</th>\n",
       "      <td>211</td>\n",
       "      <td>223</td>\n",
       "      <td>195</td>\n",
       "      <td>221</td>\n",
       "    </tr>\n",
       "  </tbody>\n",
       "</table>\n",
       "</div>"
      ],
      "text/plain": [
       "season      1     2     3     4\n",
       "weather                        \n",
       "1        1744  1721  1843  1657\n",
       "2         714   690   579   787\n",
       "3         211   223   195   221"
      ]
     },
     "execution_count": 93,
     "metadata": {},
     "output_type": "execute_result"
    }
   ],
   "source": [
    "weather_code_season_dep = pd.crosstab(bike_data['weather'], bike_data['season'])\n",
    "weather_code_season_dep"
   ]
  },
  {
   "cell_type": "code",
   "execution_count": 94,
   "id": "5940073e",
   "metadata": {
    "execution": {
     "iopub.execute_input": "2022-04-20T13:41:46.016550Z",
     "iopub.status.busy": "2022-04-20T13:41:46.016122Z",
     "iopub.status.idle": "2022-04-20T13:41:46.023155Z",
     "shell.execute_reply": "2022-04-20T13:41:46.022543Z"
    },
    "papermill": {
     "duration": 0.213039,
     "end_time": "2022-04-20T13:41:46.025274",
     "exception": false,
     "start_time": "2022-04-20T13:41:45.812235",
     "status": "completed"
    },
    "tags": []
   },
   "outputs": [
    {
     "data": {
      "text/plain": [
       "(44.20402460567892,\n",
       " 6.734426550686341e-08,\n",
       " 6,\n",
       " array([[1756.21965045, 1733.18941899, 1722.00330657, 1753.587624  ],\n",
       "        [ 698.45347189,  689.29428436,  684.84553614,  697.40670761],\n",
       "        [ 214.32687766,  211.51629665,  210.1511573 ,  214.0056684 ]]))"
      ]
     },
     "execution_count": 94,
     "metadata": {},
     "output_type": "execute_result"
    }
   ],
   "source": [
    "stat, p_value, dof, expected = stats.chi2_contingency(weather_code_season_dep)\n",
    "stat, p_value, dof, expected"
   ]
  },
  {
   "cell_type": "code",
   "execution_count": 95,
   "id": "77e619e6",
   "metadata": {
    "execution": {
     "iopub.execute_input": "2022-04-20T13:41:46.428635Z",
     "iopub.status.busy": "2022-04-20T13:41:46.427907Z",
     "iopub.status.idle": "2022-04-20T13:41:46.432998Z",
     "shell.execute_reply": "2022-04-20T13:41:46.432185Z"
    },
    "papermill": {
     "duration": 0.208648,
     "end_time": "2022-04-20T13:41:46.434822",
     "exception": false,
     "start_time": "2022-04-20T13:41:46.226174",
     "status": "completed"
    },
    "tags": []
   },
   "outputs": [
    {
     "name": "stdout",
     "output_type": "stream",
     "text": [
      "We reject the Null Hypothesis Ho\n"
     ]
    }
   ],
   "source": [
    "alpha = 0.05\n",
    "if p_value >= alpha: \n",
    "    print('We fail to reject the Null Hypothesis Ho and thus we can conclude that smokers proportion is not significantly different in different regions\"')\n",
    "else:\n",
    "    print('We reject the Null Hypothesis Ho')"
   ]
  },
  {
   "cell_type": "markdown",
   "id": "f2828790",
   "metadata": {
    "papermill": {
     "duration": 0.208297,
     "end_time": "2022-04-20T13:41:46.842315",
     "exception": false,
     "start_time": "2022-04-20T13:41:46.634018",
     "status": "completed"
    },
    "tags": []
   },
   "source": [
    "**p- value (6.734426550686341e-08) < alpha(0.05) --> so we can reject H0**\n",
    "- Which means Both weather and seasons are not independent of each other"
   ]
  },
  {
   "cell_type": "markdown",
   "id": "7fbdc729",
   "metadata": {
    "papermill": {
     "duration": 0.211574,
     "end_time": "2022-04-20T13:41:47.261626",
     "exception": false,
     "start_time": "2022-04-20T13:41:47.050052",
     "status": "completed"
    },
    "tags": []
   },
   "source": [
    "**We can conclude that we can reject the H0 as we have enough evidence to reject the null hypothesis, so it seems like weather and Seasons are dependent on each other**"
   ]
  },
  {
   "cell_type": "markdown",
   "id": "dc1d2535",
   "metadata": {
    "papermill": {
     "duration": 0.216082,
     "end_time": "2022-04-20T13:41:47.695048",
     "exception": false,
     "start_time": "2022-04-20T13:41:47.478966",
     "status": "completed"
    },
    "tags": []
   },
   "source": [
    "# ANNOVA to check if no. of cycles rented is similar or different in different weather_code and season"
   ]
  },
  {
   "cell_type": "markdown",
   "id": "b9828496",
   "metadata": {
    "papermill": {
     "duration": 0.20945,
     "end_time": "2022-04-20T13:41:48.120605",
     "exception": false,
     "start_time": "2022-04-20T13:41:47.911155",
     "status": "completed"
    },
    "tags": []
   },
   "source": [
    "**Assumptions:**\n",
    "- Normality – that each sample is taken from a normally distributed population\n",
    "- Sample independence – that each sample has been drawn independently of the other samples\n",
    "- Variance equality – that the variance of data in the different groups should be the same\n",
    "- Your dependent variable – here, “cnt”, should be continuous – that is, measured on a scale which can be subdivided using increments"
   ]
  },
  {
   "cell_type": "markdown",
   "id": "3c1eec8a",
   "metadata": {
    "papermill": {
     "duration": 0.197831,
     "end_time": "2022-04-20T13:41:48.516789",
     "exception": false,
     "start_time": "2022-04-20T13:41:48.318958",
     "status": "completed"
    },
    "tags": []
   },
   "source": [
    "**1. weather**"
   ]
  },
  {
   "cell_type": "markdown",
   "id": "81a49674",
   "metadata": {
    "papermill": {
     "duration": 0.202139,
     "end_time": "2022-04-20T13:41:48.916879",
     "exception": false,
     "start_time": "2022-04-20T13:41:48.714740",
     "status": "completed"
    },
    "tags": []
   },
   "source": [
    "**H0 (Null Hupothesis) :** count of bikes rented is same in diffrent types of weather\n",
    "\n",
    "**Ha (Alternate Hupothesis) :** count of bikes rented is different in diffrent types of weather\n",
    "\n",
    "**alpha: 0.05**"
   ]
  },
  {
   "cell_type": "code",
   "execution_count": 96,
   "id": "883cff7d",
   "metadata": {
    "execution": {
     "iopub.execute_input": "2022-04-20T13:41:49.723008Z",
     "iopub.status.busy": "2022-04-20T13:41:49.722456Z",
     "iopub.status.idle": "2022-04-20T13:41:49.729763Z",
     "shell.execute_reply": "2022-04-20T13:41:49.728842Z"
    },
    "papermill": {
     "duration": 0.209608,
     "end_time": "2022-04-20T13:41:49.731550",
     "exception": false,
     "start_time": "2022-04-20T13:41:49.521942",
     "status": "completed"
    },
    "tags": []
   },
   "outputs": [
    {
     "data": {
      "text/plain": [
       "1    7192\n",
       "2    2834\n",
       "3     859\n",
       "4       1\n",
       "Name: weather, dtype: int64"
      ]
     },
     "execution_count": 96,
     "metadata": {},
     "output_type": "execute_result"
    }
   ],
   "source": [
    "bike_dcopy['weather'].value_counts()"
   ]
  },
  {
   "cell_type": "markdown",
   "id": "1822e0e8",
   "metadata": {
    "papermill": {
     "duration": 0.199468,
     "end_time": "2022-04-20T13:41:50.131054",
     "exception": false,
     "start_time": "2022-04-20T13:41:49.931586",
     "status": "completed"
    },
    "tags": []
   },
   "source": [
    "**Checking assumptions of the test (Normality, Equal Variance)**"
   ]
  },
  {
   "cell_type": "code",
   "execution_count": 97,
   "id": "9b7d2f87",
   "metadata": {
    "execution": {
     "iopub.execute_input": "2022-04-20T13:41:50.538504Z",
     "iopub.status.busy": "2022-04-20T13:41:50.537953Z",
     "iopub.status.idle": "2022-04-20T13:41:50.542682Z",
     "shell.execute_reply": "2022-04-20T13:41:50.541982Z"
    },
    "papermill": {
     "duration": 0.214264,
     "end_time": "2022-04-20T13:41:50.544643",
     "exception": false,
     "start_time": "2022-04-20T13:41:50.330379",
     "status": "completed"
    },
    "tags": []
   },
   "outputs": [],
   "source": [
    "from scipy.stats import shapiro\n",
    "def normality_check(series, alpha=0.05):\n",
    "    _, p_value = shapiro(series)\n",
    "    print(f'p value = {p_value}')\n",
    "    if p_value >= alpha:\n",
    "        print('We fail to reject the Null Hypothesis Ho')\n",
    "    else:\n",
    "        print('We reject the Null Hypothesis Ho')"
   ]
  },
  {
   "cell_type": "code",
   "execution_count": 98,
   "id": "f694630f",
   "metadata": {
    "execution": {
     "iopub.execute_input": "2022-04-20T13:41:51.352701Z",
     "iopub.status.busy": "2022-04-20T13:41:51.352141Z",
     "iopub.status.idle": "2022-04-20T13:41:51.687602Z",
     "shell.execute_reply": "2022-04-20T13:41:51.686714Z"
    },
    "papermill": {
     "duration": 0.53939,
     "end_time": "2022-04-20T13:41:51.690336",
     "exception": false,
     "start_time": "2022-04-20T13:41:51.150946",
     "status": "completed"
    },
    "tags": []
   },
   "outputs": [
    {
     "data": {
      "text/plain": [
       "<AxesSubplot:xlabel='count', ylabel='Count'>"
      ]
     },
     "execution_count": 98,
     "metadata": {},
     "output_type": "execute_result"
    },
    {
     "data": {
      "image/png": "[encoded data removed]",
      "text/plain": [
       "<Figure size 432x288 with 1 Axes>"
      ]
     },
     "metadata": {
      "needs_background": "light"
     },
     "output_type": "display_data"
    }
   ],
   "source": [
    "sns.histplot(bike_dcopy['count'].sample(5000), kde = True)"
   ]
  },
  {
   "cell_type": "code",
   "execution_count": 99,
   "id": "34b8ee66",
   "metadata": {
    "execution": {
     "iopub.execute_input": "2022-04-20T13:41:52.094719Z",
     "iopub.status.busy": "2022-04-20T13:41:52.094167Z",
     "iopub.status.idle": "2022-04-20T13:41:52.333964Z",
     "shell.execute_reply": "2022-04-20T13:41:52.332751Z"
    },
    "papermill": {
     "duration": 0.444217,
     "end_time": "2022-04-20T13:41:52.336095",
     "exception": false,
     "start_time": "2022-04-20T13:41:51.891878",
     "status": "completed"
    },
    "tags": []
   },
   "outputs": [
    {
     "data": {
      "text/plain": [
       "<AxesSubplot:xlabel='count', ylabel='Count'>"
      ]
     },
     "execution_count": 99,
     "metadata": {},
     "output_type": "execute_result"
    },
    {
     "data": {
      "image/png": "[encoded data removed]",
      "text/plain": [
       "<Figure size 432x288 with 1 Axes>"
      ]
     },
     "metadata": {
      "needs_background": "light"
     },
     "output_type": "display_data"
    }
   ],
   "source": [
    "#Taking the log of the above distribution sample as it's not normal.\n",
    "sns.histplot(np.log(bike_dcopy['count'].sample(5000)), kde = True)"
   ]
  },
  {
   "cell_type": "code",
   "execution_count": 100,
   "id": "4d036701",
   "metadata": {
    "execution": {
     "iopub.execute_input": "2022-04-20T13:41:52.746876Z",
     "iopub.status.busy": "2022-04-20T13:41:52.746572Z",
     "iopub.status.idle": "2022-04-20T13:41:52.753283Z",
     "shell.execute_reply": "2022-04-20T13:41:52.752636Z"
    },
    "papermill": {
     "duration": 0.212745,
     "end_time": "2022-04-20T13:41:52.755275",
     "exception": false,
     "start_time": "2022-04-20T13:41:52.542530",
     "status": "completed"
    },
    "tags": []
   },
   "outputs": [
    {
     "data": {
      "text/plain": [
       "ShapiroResult(statistic=0.882299542427063, pvalue=0.0)"
      ]
     },
     "execution_count": 100,
     "metadata": {},
     "output_type": "execute_result"
    }
   ],
   "source": [
    "# H0: Series is Normal\n",
    "# Ha : Series is not Normal\n",
    "# alpha  = 0.05\n",
    "stats.shapiro(bike_dcopy['count'].sample(5000))"
   ]
  },
  {
   "cell_type": "markdown",
   "id": "88760314",
   "metadata": {
    "papermill": {
     "duration": 0.201868,
     "end_time": "2022-04-20T13:41:53.163153",
     "exception": false,
     "start_time": "2022-04-20T13:41:52.961285",
     "status": "completed"
    },
    "tags": []
   },
   "source": [
    "**Observations:** Even after taking log, the distribution is not exactly normal. So our assumption doesn't holds true. Also, we have confirmed with the statistical test -Shapiro wik test that the series is not normal.Still we will be going ahead with the test just to check the results."
   ]
  },
  {
   "cell_type": "code",
   "execution_count": 102,
   "id": "a9030133",
   "metadata": {
    "execution": {
     "iopub.execute_input": "2022-04-20T13:41:53.991277Z",
     "iopub.status.busy": "2022-04-20T13:41:53.990786Z",
     "iopub.status.idle": "2022-04-20T13:41:53.998250Z",
     "shell.execute_reply": "2022-04-20T13:41:53.997519Z"
    },
    "papermill": {
     "duration": 0.215364,
     "end_time": "2022-04-20T13:41:54.000039",
     "exception": false,
     "start_time": "2022-04-20T13:41:53.784675",
     "status": "completed"
    },
    "tags": []
   },
   "outputs": [
    {
     "data": {
      "text/plain": [
       "1    7192\n",
       "2    2834\n",
       "3     859\n",
       "4       1\n",
       "Name: weather, dtype: int64"
      ]
     },
     "execution_count": 102,
     "metadata": {},
     "output_type": "execute_result"
    }
   ],
   "source": [
    "bike_dcopy['weather'].value_counts()"
   ]
  },
  {
   "cell_type": "markdown",
   "id": "84ff91bc",
   "metadata": {
    "execution": {
     "iopub.execute_input": "2022-04-20T13:14:58.272532Z",
     "iopub.status.busy": "2022-04-20T13:14:58.271893Z",
     "iopub.status.idle": "2022-04-20T13:14:58.278877Z",
     "shell.execute_reply": "2022-04-20T13:14:58.277655Z",
     "shell.execute_reply.started": "2022-04-20T13:14:58.272481Z"
    },
    "papermill": {
     "duration": 0.201712,
     "end_time": "2022-04-20T13:41:54.404320",
     "exception": false,
     "start_time": "2022-04-20T13:41:54.202608",
     "status": "completed"
    },
    "tags": []
   },
   "source": [
    "#### Normality Test:\n",
    "We will perform normality check using **Shapiro test.**\n",
    "\n",
    "The hypothesis of this test are:\n",
    "- Ho: series is normal\n",
    "- Ha: series is not normal"
   ]
  },
  {
   "cell_type": "code",
   "execution_count": 103,
   "id": "33fdedf3",
   "metadata": {
    "execution": {
     "iopub.execute_input": "2022-04-20T13:41:54.814943Z",
     "iopub.status.busy": "2022-04-20T13:41:54.814647Z",
     "iopub.status.idle": "2022-04-20T13:41:54.820264Z",
     "shell.execute_reply": "2022-04-20T13:41:54.819316Z"
    },
    "papermill": {
     "duration": 0.216946,
     "end_time": "2022-04-20T13:41:54.822872",
     "exception": false,
     "start_time": "2022-04-20T13:41:54.605926",
     "status": "completed"
    },
    "tags": []
   },
   "outputs": [
    {
     "name": "stdout",
     "output_type": "stream",
     "text": [
      "p value = 2.802596928649634e-45\n",
      "We reject the Null Hypothesis Ho\n"
     ]
    }
   ],
   "source": [
    "normality_check(bike_dcopy['weather'].sample(1400, replace = True))"
   ]
  },
  {
   "cell_type": "markdown",
   "id": "15e444a2",
   "metadata": {
    "papermill": {
     "duration": 0.209585,
     "end_time": "2022-04-20T13:41:55.239114",
     "exception": false,
     "start_time": "2022-04-20T13:41:55.029529",
     "status": "completed"
    },
    "tags": []
   },
   "source": [
    "#### Equality of Variance Test:\n",
    "We will perform equivalence check for using using Levene's test.\n",
    "\n",
    "The hypothesis of this test are:\n",
    "- Ho: Variances are equal\n",
    "- Ha: Variances are not equal"
   ]
  },
  {
   "cell_type": "code",
   "execution_count": 104,
   "id": "d9d9d79a",
   "metadata": {
    "execution": {
     "iopub.execute_input": "2022-04-20T13:41:55.648334Z",
     "iopub.status.busy": "2022-04-20T13:41:55.647863Z",
     "iopub.status.idle": "2022-04-20T13:41:55.676777Z",
     "shell.execute_reply": "2022-04-20T13:41:55.676044Z"
    },
    "papermill": {
     "duration": 0.23712,
     "end_time": "2022-04-20T13:41:55.678850",
     "exception": false,
     "start_time": "2022-04-20T13:41:55.441730",
     "status": "completed"
    },
    "tags": []
   },
   "outputs": [
    {
     "data": {
      "text/html": [
       "<div>\n",
       "<style scoped>\n",
       "    .dataframe tbody tr th:only-of-type {\n",
       "        vertical-align: middle;\n",
       "    }\n",
       "\n",
       "    .dataframe tbody tr th {\n",
       "        vertical-align: top;\n",
       "    }\n",
       "\n",
       "    .dataframe thead th {\n",
       "        text-align: right;\n",
       "    }\n",
       "</style>\n",
       "<table border=\"1\" class=\"dataframe\">\n",
       "  <thead>\n",
       "    <tr style=\"text-align: right;\">\n",
       "      <th></th>\n",
       "      <th>count</th>\n",
       "      <th>mean</th>\n",
       "      <th>std</th>\n",
       "      <th>min</th>\n",
       "      <th>25%</th>\n",
       "      <th>50%</th>\n",
       "      <th>75%</th>\n",
       "      <th>max</th>\n",
       "    </tr>\n",
       "    <tr>\n",
       "      <th>weather</th>\n",
       "      <th></th>\n",
       "      <th></th>\n",
       "      <th></th>\n",
       "      <th></th>\n",
       "      <th></th>\n",
       "      <th></th>\n",
       "      <th></th>\n",
       "      <th></th>\n",
       "    </tr>\n",
       "  </thead>\n",
       "  <tbody>\n",
       "    <tr>\n",
       "      <th>1</th>\n",
       "      <td>7192.0</td>\n",
       "      <td>205.236791</td>\n",
       "      <td>187.959566</td>\n",
       "      <td>1.0</td>\n",
       "      <td>48.0</td>\n",
       "      <td>161.0</td>\n",
       "      <td>305.0</td>\n",
       "      <td>977.0</td>\n",
       "    </tr>\n",
       "    <tr>\n",
       "      <th>2</th>\n",
       "      <td>2834.0</td>\n",
       "      <td>178.955540</td>\n",
       "      <td>168.366413</td>\n",
       "      <td>1.0</td>\n",
       "      <td>41.0</td>\n",
       "      <td>134.0</td>\n",
       "      <td>264.0</td>\n",
       "      <td>890.0</td>\n",
       "    </tr>\n",
       "    <tr>\n",
       "      <th>3</th>\n",
       "      <td>859.0</td>\n",
       "      <td>118.846333</td>\n",
       "      <td>138.581297</td>\n",
       "      <td>1.0</td>\n",
       "      <td>23.0</td>\n",
       "      <td>71.0</td>\n",
       "      <td>161.0</td>\n",
       "      <td>891.0</td>\n",
       "    </tr>\n",
       "    <tr>\n",
       "      <th>4</th>\n",
       "      <td>1.0</td>\n",
       "      <td>164.000000</td>\n",
       "      <td>NaN</td>\n",
       "      <td>164.0</td>\n",
       "      <td>164.0</td>\n",
       "      <td>164.0</td>\n",
       "      <td>164.0</td>\n",
       "      <td>164.0</td>\n",
       "    </tr>\n",
       "  </tbody>\n",
       "</table>\n",
       "</div>"
      ],
      "text/plain": [
       "          count        mean         std    min    25%    50%    75%    max\n",
       "weather                                                                   \n",
       "1        7192.0  205.236791  187.959566    1.0   48.0  161.0  305.0  977.0\n",
       "2        2834.0  178.955540  168.366413    1.0   41.0  134.0  264.0  890.0\n",
       "3         859.0  118.846333  138.581297    1.0   23.0   71.0  161.0  891.0\n",
       "4           1.0  164.000000         NaN  164.0  164.0  164.0  164.0  164.0"
      ]
     },
     "execution_count": 104,
     "metadata": {},
     "output_type": "execute_result"
    }
   ],
   "source": [
    "bike_dcopy.groupby(['weather'])['count'].describe() # Variance is different for diff weather_code"
   ]
  },
  {
   "cell_type": "code",
   "execution_count": 113,
   "id": "652ccff5",
   "metadata": {
    "execution": {
     "iopub.execute_input": "2022-04-20T13:41:56.109313Z",
     "iopub.status.busy": "2022-04-20T13:41:56.108593Z",
     "iopub.status.idle": "2022-04-20T13:41:56.114571Z",
     "shell.execute_reply": "2022-04-20T13:41:56.113667Z"
    },
    "papermill": {
     "duration": 0.229683,
     "end_time": "2022-04-20T13:41:56.116637",
     "exception": false,
     "start_time": "2022-04-20T13:41:55.886954",
     "status": "completed"
    },
    "tags": []
   },
   "outputs": [],
   "source": [
    "from scipy.stats import levene\n",
    "def variance_check(series1, series2, series3,series4, alpha=0.05):\n",
    "    _, p_value = levene(series1, series2, series3)\n",
    "    print(f'p value = {p_value}')\n",
    "    if (p_value >= alpha).all():\n",
    "        print('We fail to reject the Null Hypothesis Ho')\n",
    "    else:\n",
    "        print('We reject the Null Hypothesis Ho')"
   ]
  },
  {
   "cell_type": "code",
   "execution_count": 114,
   "id": "7485c156",
   "metadata": {
    "execution": {
     "iopub.execute_input": "2022-04-20T13:41:56.528665Z",
     "iopub.status.busy": "2022-04-20T13:41:56.528107Z",
     "iopub.status.idle": "2022-04-20T13:41:56.540822Z",
     "shell.execute_reply": "2022-04-20T13:41:56.540185Z"
    },
    "papermill": {
     "duration": 0.223055,
     "end_time": "2022-04-20T13:41:56.542823",
     "exception": false,
     "start_time": "2022-04-20T13:41:56.319768",
     "status": "completed"
    },
    "tags": []
   },
   "outputs": [],
   "source": [
    "series1 =   bike_dcopy[bike_dcopy['weather'] == 1]['count'].sample(500,replace=True)\n",
    "series2 =       bike_dcopy[bike_dcopy['weather'] == 2]['count'].sample(500,replace=True)\n",
    "series3 =          bike_dcopy[bike_dcopy['weather'] == 3]['count'].sample(500,replace=True)\n",
    "series4 =       bike_dcopy[bike_dcopy['weather'] == 4]['count'].sample(500,replace=True)"
   ]
  },
  {
   "cell_type": "code",
   "execution_count": 115,
   "id": "7c5094c6",
   "metadata": {
    "execution": {
     "iopub.execute_input": "2022-04-20T13:41:56.954394Z",
     "iopub.status.busy": "2022-04-20T13:41:56.953735Z",
     "iopub.status.idle": "2022-04-20T13:41:56.960357Z",
     "shell.execute_reply": "2022-04-20T13:41:56.959422Z"
    },
    "papermill": {
     "duration": 0.216089,
     "end_time": "2022-04-20T13:41:56.962295",
     "exception": false,
     "start_time": "2022-04-20T13:41:56.746206",
     "status": "completed"
    },
    "tags": []
   },
   "outputs": [
    {
     "name": "stdout",
     "output_type": "stream",
     "text": [
      "p value = 1.8550748632061074e-07\n",
      "We reject the Null Hypothesis Ho\n"
     ]
    }
   ],
   "source": [
    "variance_check(series1, series2, series3,series4)"
   ]
  },
  {
   "cell_type": "code",
   "execution_count": 116,
   "id": "d515c5e1",
   "metadata": {
    "execution": {
     "iopub.execute_input": "2022-04-20T13:41:57.371668Z",
     "iopub.status.busy": "2022-04-20T13:41:57.370938Z",
     "iopub.status.idle": "2022-04-20T13:41:57.583171Z",
     "shell.execute_reply": "2022-04-20T13:41:57.582234Z"
    },
    "papermill": {
     "duration": 0.419262,
     "end_time": "2022-04-20T13:41:57.585351",
     "exception": false,
     "start_time": "2022-04-20T13:41:57.166089",
     "status": "completed"
    },
    "tags": []
   },
   "outputs": [
    {
     "data": {
      "image/png": "[encoded data removed]",
      "text/plain": [
       "<Figure size 432x288 with 1 Axes>"
      ]
     },
     "metadata": {
      "needs_background": "light"
     },
     "output_type": "display_data"
    }
   ],
   "source": [
    "sns.kdeplot(series1,color = 'green',shade='green')\n",
    "sns.kdeplot(series2,color = 'blue',shade = 'blue')\n",
    "sns.kdeplot(series3,color = 'red',shade = 'red')\n",
    "sns.kdeplot(series4,color = 'yellow',shade = 'yellow')\n",
    "plt.show()"
   ]
  },
  {
   "cell_type": "markdown",
   "id": "701eb2fb",
   "metadata": {
    "papermill": {
     "duration": 0.207753,
     "end_time": "2022-04-20T13:41:58.002779",
     "exception": false,
     "start_time": "2022-04-20T13:41:57.795026",
     "status": "completed"
    },
    "tags": []
   },
   "source": [
    "#### Although both our assumption for normality and varaince failed, we will continue with One way Annova just to check what's the result."
   ]
  },
  {
   "cell_type": "code",
   "execution_count": 118,
   "id": "1fa95a7c",
   "metadata": {
    "execution": {
     "iopub.execute_input": "2022-04-20T13:41:58.416102Z",
     "iopub.status.busy": "2022-04-20T13:41:58.415784Z",
     "iopub.status.idle": "2022-04-20T13:41:58.431207Z",
     "shell.execute_reply": "2022-04-20T13:41:58.430453Z"
    },
    "papermill": {
     "duration": 0.224111,
     "end_time": "2022-04-20T13:41:58.433025",
     "exception": false,
     "start_time": "2022-04-20T13:41:58.208914",
     "status": "completed"
    },
    "tags": []
   },
   "outputs": [
    {
     "data": {
      "text/plain": [
       "(77.09795545672412, 7.286684265545008e-49)"
      ]
     },
     "execution_count": 118,
     "metadata": {},
     "output_type": "execute_result"
    }
   ],
   "source": [
    "stat,p = stats.f_oneway(bike_dcopy[bike_dcopy['weather'] == 1]['count'].sample(1400,replace=True),\n",
    "                        bike_dcopy[bike_dcopy['weather'] == 2]['count'].sample(1400,replace=True),\n",
    "                        bike_dcopy[bike_dcopy['weather'] == 3]['count'].sample(1400,replace=True),\n",
    "                       bike_dcopy[bike_dcopy['weather'] == 4]['count'].sample(1400,replace=True))\n",
    "\n",
    "stat,p"
   ]
  },
  {
   "cell_type": "code",
   "execution_count": 119,
   "id": "c1a55a9c",
   "metadata": {
    "execution": {
     "iopub.execute_input": "2022-04-20T13:41:58.849258Z",
     "iopub.status.busy": "2022-04-20T13:41:58.848580Z",
     "iopub.status.idle": "2022-04-20T13:41:58.863999Z",
     "shell.execute_reply": "2022-04-20T13:41:58.863435Z"
    },
    "papermill": {
     "duration": 0.22587,
     "end_time": "2022-04-20T13:41:58.865836",
     "exception": false,
     "start_time": "2022-04-20T13:41:58.639966",
     "status": "completed"
    },
    "tags": []
   },
   "outputs": [
    {
     "data": {
      "text/plain": [
       "(530.4551235475767, 2.130816992287933e-303)"
      ]
     },
     "execution_count": 119,
     "metadata": {},
     "output_type": "execute_result"
    }
   ],
   "source": [
    "test, p_val= stats.levene(bike_dcopy[bike_dcopy['weather'] == 1]['count'].sample(1400,replace=True),\n",
    "                        bike_dcopy[bike_dcopy['weather'] == 2]['count'].sample(1400,replace=True),\n",
    "                        bike_dcopy[bike_dcopy['weather'] == 3]['count'].sample(1400,replace=True),\n",
    "                       bike_dcopy[bike_dcopy['weather'] == 4]['count'].sample(1400,replace=True))\n",
    "#                 \n",
    "\n",
    "test, p_val"
   ]
  },
  {
   "cell_type": "markdown",
   "id": "581bc54d",
   "metadata": {
    "papermill": {
     "duration": 0.206164,
     "end_time": "2022-04-20T13:41:59.279776",
     "exception": false,
     "start_time": "2022-04-20T13:41:59.073612",
     "status": "completed"
    },
    "tags": []
   },
   "source": [
    "**Conclusion : As the p value < alpha(0.05) , we reject H0 and thus we can conclude that cnt of bikes differs with a change in weather_code.**"
   ]
  },
  {
   "cell_type": "markdown",
   "id": "803af3b8",
   "metadata": {
    "papermill": {
     "duration": 0.206439,
     "end_time": "2022-04-20T13:41:59.692538",
     "exception": false,
     "start_time": "2022-04-20T13:41:59.486099",
     "status": "completed"
    },
    "tags": []
   },
   "source": [
    "**2. Seasons**"
   ]
  },
  {
   "cell_type": "markdown",
   "id": "dd46cb37",
   "metadata": {
    "papermill": {
     "duration": 0.208042,
     "end_time": "2022-04-20T13:42:00.109318",
     "exception": false,
     "start_time": "2022-04-20T13:41:59.901276",
     "status": "completed"
    },
    "tags": []
   },
   "source": [
    "**H0 (Null Hupothesis) :** cnt of bikes rented is same in different types of seasons\n",
    "\n",
    "**Ha (Alternate Hupothesis) :** cnt of bikes rented is different in different types of seasons\n",
    "\n",
    "**alpha: 0.05**"
   ]
  },
  {
   "cell_type": "code",
   "execution_count": 120,
   "id": "4b4ec9dc",
   "metadata": {
    "execution": {
     "iopub.execute_input": "2022-04-20T13:42:00.528403Z",
     "iopub.status.busy": "2022-04-20T13:42:00.527942Z",
     "iopub.status.idle": "2022-04-20T13:42:00.535089Z",
     "shell.execute_reply": "2022-04-20T13:42:00.534344Z"
    },
    "papermill": {
     "duration": 0.219536,
     "end_time": "2022-04-20T13:42:00.537301",
     "exception": false,
     "start_time": "2022-04-20T13:42:00.317765",
     "status": "completed"
    },
    "tags": []
   },
   "outputs": [
    {
     "data": {
      "text/plain": [
       "4    2734\n",
       "2    2733\n",
       "3    2733\n",
       "1    2686\n",
       "Name: season, dtype: int64"
      ]
     },
     "execution_count": 120,
     "metadata": {},
     "output_type": "execute_result"
    }
   ],
   "source": [
    "bike_dcopy['season'].value_counts()"
   ]
  },
  {
   "cell_type": "code",
   "execution_count": 121,
   "id": "bf7af0d7",
   "metadata": {
    "execution": {
     "iopub.execute_input": "2022-04-20T13:42:00.957678Z",
     "iopub.status.busy": "2022-04-20T13:42:00.957377Z",
     "iopub.status.idle": "2022-04-20T13:42:00.983271Z",
     "shell.execute_reply": "2022-04-20T13:42:00.982675Z"
    },
    "papermill": {
     "duration": 0.23622,
     "end_time": "2022-04-20T13:42:00.985256",
     "exception": false,
     "start_time": "2022-04-20T13:42:00.749036",
     "status": "completed"
    },
    "tags": []
   },
   "outputs": [
    {
     "data": {
      "text/html": [
       "<div>\n",
       "<style scoped>\n",
       "    .dataframe tbody tr th:only-of-type {\n",
       "        vertical-align: middle;\n",
       "    }\n",
       "\n",
       "    .dataframe tbody tr th {\n",
       "        vertical-align: top;\n",
       "    }\n",
       "\n",
       "    .dataframe thead th {\n",
       "        text-align: right;\n",
       "    }\n",
       "</style>\n",
       "<table border=\"1\" class=\"dataframe\">\n",
       "  <thead>\n",
       "    <tr style=\"text-align: right;\">\n",
       "      <th></th>\n",
       "      <th>count</th>\n",
       "      <th>mean</th>\n",
       "      <th>std</th>\n",
       "      <th>min</th>\n",
       "      <th>25%</th>\n",
       "      <th>50%</th>\n",
       "      <th>75%</th>\n",
       "      <th>max</th>\n",
       "    </tr>\n",
       "    <tr>\n",
       "      <th>season</th>\n",
       "      <th></th>\n",
       "      <th></th>\n",
       "      <th></th>\n",
       "      <th></th>\n",
       "      <th></th>\n",
       "      <th></th>\n",
       "      <th></th>\n",
       "      <th></th>\n",
       "    </tr>\n",
       "  </thead>\n",
       "  <tbody>\n",
       "    <tr>\n",
       "      <th>1</th>\n",
       "      <td>2686.0</td>\n",
       "      <td>116.343261</td>\n",
       "      <td>125.273974</td>\n",
       "      <td>1.0</td>\n",
       "      <td>24.0</td>\n",
       "      <td>78.0</td>\n",
       "      <td>164.0</td>\n",
       "      <td>801.0</td>\n",
       "    </tr>\n",
       "    <tr>\n",
       "      <th>2</th>\n",
       "      <td>2733.0</td>\n",
       "      <td>215.251372</td>\n",
       "      <td>192.007843</td>\n",
       "      <td>1.0</td>\n",
       "      <td>49.0</td>\n",
       "      <td>172.0</td>\n",
       "      <td>321.0</td>\n",
       "      <td>873.0</td>\n",
       "    </tr>\n",
       "    <tr>\n",
       "      <th>3</th>\n",
       "      <td>2733.0</td>\n",
       "      <td>234.417124</td>\n",
       "      <td>197.151001</td>\n",
       "      <td>1.0</td>\n",
       "      <td>68.0</td>\n",
       "      <td>195.0</td>\n",
       "      <td>347.0</td>\n",
       "      <td>977.0</td>\n",
       "    </tr>\n",
       "    <tr>\n",
       "      <th>4</th>\n",
       "      <td>2734.0</td>\n",
       "      <td>198.988296</td>\n",
       "      <td>177.622409</td>\n",
       "      <td>1.0</td>\n",
       "      <td>51.0</td>\n",
       "      <td>161.0</td>\n",
       "      <td>294.0</td>\n",
       "      <td>948.0</td>\n",
       "    </tr>\n",
       "  </tbody>\n",
       "</table>\n",
       "</div>"
      ],
      "text/plain": [
       "         count        mean         std  min   25%    50%    75%    max\n",
       "season                                                                \n",
       "1       2686.0  116.343261  125.273974  1.0  24.0   78.0  164.0  801.0\n",
       "2       2733.0  215.251372  192.007843  1.0  49.0  172.0  321.0  873.0\n",
       "3       2733.0  234.417124  197.151001  1.0  68.0  195.0  347.0  977.0\n",
       "4       2734.0  198.988296  177.622409  1.0  51.0  161.0  294.0  948.0"
      ]
     },
     "execution_count": 121,
     "metadata": {},
     "output_type": "execute_result"
    }
   ],
   "source": [
    "bike_dcopy.groupby(['season'])['count'].describe() # The variance is different for all the 4 seasons"
   ]
  },
  {
   "cell_type": "code",
   "execution_count": 122,
   "id": "c4648a79",
   "metadata": {
    "execution": {
     "iopub.execute_input": "2022-04-20T13:42:01.402503Z",
     "iopub.status.busy": "2022-04-20T13:42:01.401746Z",
     "iopub.status.idle": "2022-04-20T13:42:01.414489Z",
     "shell.execute_reply": "2022-04-20T13:42:01.413912Z"
    },
    "papermill": {
     "duration": 0.22323,
     "end_time": "2022-04-20T13:42:01.416219",
     "exception": false,
     "start_time": "2022-04-20T13:42:01.192989",
     "status": "completed"
    },
    "tags": []
   },
   "outputs": [
    {
     "data": {
      "text/plain": [
       "(371.6032557492099, 2.4917157989767425e-233)"
      ]
     },
     "execution_count": 122,
     "metadata": {},
     "output_type": "execute_result"
    }
   ],
   "source": [
    "stat,p = stats.f_oneway(bike_dcopy[bike_dcopy['season'] == 1]['count'].sample(4000,replace=True),\n",
    "                        bike_dcopy[bike_dcopy['season'] == 2]['count'].sample(4000,replace=True),\n",
    "                        bike_dcopy[bike_dcopy['season'] == 3]['count'].sample(4000,replace=True),\n",
    "                        bike_dcopy[bike_dcopy['season'] == 4]['count'].sample(4000,replace=True))\n",
    "stat,p"
   ]
  },
  {
   "cell_type": "code",
   "execution_count": 123,
   "id": "3ef6a8ec",
   "metadata": {
    "execution": {
     "iopub.execute_input": "2022-04-20T13:42:01.833683Z",
     "iopub.status.busy": "2022-04-20T13:42:01.833320Z",
     "iopub.status.idle": "2022-04-20T13:42:01.847350Z",
     "shell.execute_reply": "2022-04-20T13:42:01.846568Z"
    },
    "papermill": {
     "duration": 0.226487,
     "end_time": "2022-04-20T13:42:01.849530",
     "exception": false,
     "start_time": "2022-04-20T13:42:01.623043",
     "status": "completed"
    },
    "tags": []
   },
   "outputs": [
    {
     "data": {
      "text/plain": [
       "(281.6503016034221, 3.6116641403458857e-178)"
      ]
     },
     "execution_count": 123,
     "metadata": {},
     "output_type": "execute_result"
    }
   ],
   "source": [
    "test, p_val= stats.levene(bike_dcopy[bike_dcopy['season'] == 1]['count'].sample(4000,replace=True),\n",
    "                        bike_dcopy[bike_dcopy['season'] == 2]['count'].sample(4000,replace=True),\n",
    "                        bike_dcopy[bike_dcopy['season'] == 3]['count'].sample(4000,replace=True),\n",
    "                        bike_dcopy[bike_dcopy['season'] == 4]['count'].sample(4000,replace=True))\n",
    "test, p_val"
   ]
  },
  {
   "cell_type": "markdown",
   "id": "176b3ba1",
   "metadata": {
    "papermill": {
     "duration": 0.209973,
     "end_time": "2022-04-20T13:42:02.271976",
     "exception": false,
     "start_time": "2022-04-20T13:42:02.062003",
     "status": "completed"
    },
    "tags": []
   },
   "source": [
    "**Conclusion : As the p value < alpha(0.05) , we reject H0 and thus we can conclude that cnt of bikes differs with a change in season.**"
   ]
  },
  {
   "cell_type": "markdown",
   "id": "7afc2f7f",
   "metadata": {
    "papermill": {
     "duration": 0.207617,
     "end_time": "2022-04-20T13:42:02.687655",
     "exception": false,
     "start_time": "2022-04-20T13:42:02.480038",
     "status": "completed"
    },
    "tags": []
   },
   "source": [
    "## Insights:"
   ]
  },
  {
   "cell_type": "markdown",
   "id": "b3bc95c2",
   "metadata": {
    "papermill": {
     "duration": 0.208189,
     "end_time": "2022-04-20T13:42:03.104033",
     "exception": false,
     "start_time": "2022-04-20T13:42:02.895844",
     "status": "completed"
    },
    "tags": []
   },
   "source": [
    "- As the data ranges from 1st Jan 2011 to 19th Dec 2012, the cnt of the bikes rented will also be in this time period of almost 2 years.\n",
    "- During months of September and October, maximum number of  bikes are rented.\n",
    "- The count is less in the cold seasons of winter(Months such as Nov, Dec, Jan, Feb) where due to cold, people prefer mostly not to ride the bikes.\n",
    "- The data contains dates from 1 to 19th of a particular month.\n",
    "- The demand for  bikes at the starting months is quite low as compared to months from March 2012 onwards. There's a drop in the middle owing to cold and winter season.\n",
    "- There are outliers in windspeed and casual users which tells us that, the windspeed in not uniform. Whereas the casual user cnt varies as they are not registered and not serious in riding the bikes.\n",
    "- The exponential decay curve for the count(reg and non-reg) tells that, as the users renting bikes increases, the frequency decreases.\n",
    "- For weather, in the fourth category i.e (Heavy Rain + Ice Pallets + Thunderstorm + Mist, Snow + Fog) no. of users renting bikes is much low and hence it's good to drop the feature while doing further tests.\n",
    "- cnt for bikes rented in working day is much higher than non working day.\n",
    "- During holidays, people don't prefer to ride bikes.\n",
    "- When the weather is Clear with Few clouds, people tend to rent more  bikes for their comute.\n",
    "- During the spring, summer, fall, winter, the cnt is more or less eual for the users renting bikes\n",
    "- The registered user cnt has higher co-relation with the cnt as compared to the casual user cnt.\n",
    "- The windspeed and season has a very low(near zero) positive co-relation with the cnt which means, the windspeed and seasons doesn't have an effect in the demand of  bikes rented.\n",
    "- The t1erature and user specific feeling of heat/cold has a moderated co-relation (0.3) with the cnt. People tends to go ot in bright sunny day when the t1 is normal whereas as during harsh conditions such as too hot or too cold, the demand in the  bikes has seen a considerable dip.\n",
    "- The casual users who rents  bikes likes to ride the bikes as the t1erature is suitable.\n",
    "- When there's a holiday, user cnt has seen a considerable dip whereas in working days, the cnt is normal.\n",
    "- **2 sample t-test:**\n",
    "    - The distribution of the population samples is right-skwed and it's not normal which violates is our assumption for conducting 2 sample t test. Also the varaince of the samples is unequal.Hence we will do log-transformation\n",
    "    - We got a p-value of 0.91 which is greater than 0.05 and hence we can say that we can accept the null hypothesis. We will confirm after log - transformation as well\n",
    "    - After taking log on the sample population, we get a near normal distribution with variance very similar to each other. So we can calculate the p-value and test-statistics.\n",
    "    - Conclusion : As the p value > alpha(0.05) , we accept H0 and thus we can say that the cnt of renting of  bikes in both working and non-working days is equal. And we can confirm this using the boxplot as well.\n",
    "- **Chi-Square test:**\n",
    "    - p- value (6.734426550686341e-08) < alpha(0.05) --> so we can reject H0 Which means weather_code and seasons have a significant dependency and Both weather_code and seasons are not independent of each other\n",
    "    - We can conclude that our (chi_stat > chi_critical), we can reject the H0 as we have enough evidence to reject the null hypothesis, so it seems like weather_code and Seasons are dependent on each other.\n",
    "- **One-way Anova:**\n",
    "    - Even after taking log, the distribution is not exactly normal. So our assumption doesn't holds true. Also, we have confirmed with the statistical test -Shapiro wilk test that the series is not normal. Still we will be going ahead with the test just to check the results.\n",
    "    - As the p value < alpha(0.05) , we reject H0 and thus we can conclude that cnt of bikes differs with a change in weather_code.\n",
    "    - As the p value < alpha(0.05) , we reject H0 and thus we can conclude that cnt of bikes differs with a change in season.\n",
    "\n",
    "\n"
   ]
  },
  {
   "cell_type": "markdown",
   "id": "6a71bda4",
   "metadata": {},
   "source": [
    "## Recommendation\n",
    "- **We can say that the major factors affecting the count of bikes rented are season and weather_code. The working and non working days can't be considered as a significant factor in predicting the future of rental business.** \n",
    "- **At the same time, the business team must focus on the months other than winter months for increasing the bike parking zones as during the winter months of (Nov, Dec, Jan, Feb), theres's a considerable dip in the count of bikes rented. So the team can utilize these months for serving some other purpose such as renting electric cars, etc which can be a comfortable means for commute in cold.**"
   ]
  }
 ],
 "metadata": {
  "kernelspec": {
   "display_name": "Python 3",
   "language": "python",
   "name": "python3"
  },
  "language_info": {
   "codemirror_mode": {
    "name": "ipython",
    "version": 3
   },
   "file_extension": ".py",
   "mimetype": "text/x-python",
   "name": "python",
   "nbconvert_exporter": "python",
   "pygments_lexer": "ipython3",
   "version": "3.8.8"
  },
  "papermill": {
   "default_parameters": {},
   "duration": 83.799729,
   "end_time": "2022-04-20T13:42:04.546142",
   "environment_variables": {},
   "exception": null,
   "input_path": "__notebook__.ipynb",
   "output_path": "__notebook__.ipynb",
   "parameters": {},
   "start_time": "2022-04-20T13:40:40.746413",
   "version": "2.3.4"
  }
 },
 "nbformat": 4,
 "nbformat_minor": 5
}
